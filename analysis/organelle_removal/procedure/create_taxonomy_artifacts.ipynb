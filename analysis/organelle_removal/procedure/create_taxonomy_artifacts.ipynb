{
 "cells": [
  {
   "cell_type": "code",
   "execution_count": 20,
   "metadata": {},
   "outputs": [],
   "source": [
    "from Bio import SeqIO\n",
    "from qiime2 import Artifact"
   ]
  },
  {
   "cell_type": "code",
   "execution_count": null,
   "metadata": {},
   "outputs": [],
   "source": [
    "#manually downloaded:\n",
    "#all.seqs.fa\n",
    "#all.biom\n",
    "#GCMP_EMP_map_r28_no_empty_samples.txt\n",
    "#gg_13_8_otus.tar.gz (from ftp://greengenes.microbio.me/greengenes_release/gg_13_5/gg_13_8_otus.tar.gz)\n",
    "#Silva_132_release.zip (from https://www.arb-silva.de/fileadmin/silva_databases/qiime/Silva_132_release.zip)\n",
    "\n",
    "#manually extract silva and greengenes"
   ]
  },
  {
   "cell_type": "code",
   "execution_count": 11,
   "metadata": {},
   "outputs": [],
   "source": [
    "#extract mitochondria sequences from Metaxa2 and create a separate taxonomy file in the style of greengenes\n",
    "working_dir = '/home/dylan/Documents/june_reset'\n",
    "metaxa_path = working_dir + '/input/metaxa2.fasta'\n",
    "greengenes_path = working_dir + '/input/gg_13_8_otus/rep_set/99_otus.fasta'\n",
    "with open((working_dir + '/input/m2+gg_otus.fasta'), \"a\") as otu_file:\n",
    "    with open((working_dir + '/input/m2+gg_taxonomy.txt'), \"a\") as taxonomy_file:\n",
    "        for i, entry in enumerate(SeqIO.parse(metaxa_path, \"fasta\")):\n",
    "            if 'mitochondria' in entry.description or 'Mitochondria' in entry.description:\n",
    "                otu_file.write(\">metaxa2_\" + str(i) + \"\\n\")\n",
    "                otu_file.write(str(entry.seq + \"\\n\"))\n",
    "                taxonomy_file.write(\"metaxa2_\" + str(i) + \"\\tk__Bacteria; p__Proteobacteria; c__Alphaproteobacteria; o__Rickettsiales; f__mitochondria; g__; s__\\n\")\n",
    "            else:\n",
    "                continue"
   ]
  },
  {
   "cell_type": "code",
   "execution_count": 12,
   "metadata": {},
   "outputs": [],
   "source": [
    "#copy greengenes otus into the combined file\n",
    "with open((working_dir + '/input/m2+gg_otus.fasta'), \"a\") as otu_file:\n",
    "    for entry in SeqIO.parse(greengenes_path, \"fasta\"):\n",
    "        otu_file.write(\">\" + str(entry.description) + \"\\n\")\n",
    "        otu_file.write(str(entry.seq) + \"\\n\")"
   ]
  },
  {
   "cell_type": "code",
   "execution_count": 15,
   "metadata": {},
   "outputs": [],
   "source": [
    "#copy greengenes taxonomy into the combined file\n",
    "with open((working_dir + '/input/m2+gg_taxonomy.txt'), \"a\") as taxonomy_file:\n",
    "    with open(working_dir + '/input/gg_13_8_otus/taxonomy/99_otu_taxonomy.txt') as greengenes_taxonomy_file:\n",
    "        for line in greengenes_taxonomy_file:\n",
    "            taxonomy_file.write(line)"
   ]
  },
  {
   "cell_type": "code",
   "execution_count": 17,
   "metadata": {},
   "outputs": [],
   "source": [
    "#extract mitochondria sequences from Metaxa2 and create a separate taxonomy file in the style of SILVA\n",
    "silva_path = working_dir + '/input/Silva_132_release/SILVA_132_QIIME_release/rep_set/rep_set_16S_only/99/silva_132_99_16S.fna'\n",
    "with open((working_dir + '/input/m2+silva_otus.fasta'), \"a\") as otu_file:\n",
    "    with open((working_dir + '/input/m2+silva_taxonomy.txt'), \"a\") as taxonomy_file:\n",
    "        for i, entry in enumerate(SeqIO.parse(metaxa_path, \"fasta\")):\n",
    "            if 'mitochondria' in entry.description or 'Mitochondria' in entry.description:\n",
    "                otu_file.write(\">metaxa2_\" + str(i) + \"\\n\")\n",
    "                otu_file.write(str(entry.seq + \"\\n\"))\n",
    "                taxonomy_file.write(\"metaxa2_\" + str(i) + \"\\tD_0__Bacteria;D_1__Proteobacteria;D_2__Alphaproteobacteria;D_3__Rickettsiales;D_4__Mitochondria;D_5__uncultured bacterium;D_6__uncultured bacterium\\n\")\n",
    "            else:\n",
    "                continue"
   ]
  },
  {
   "cell_type": "code",
   "execution_count": 18,
   "metadata": {},
   "outputs": [],
   "source": [
    "#copy silva otus into the combined file\n",
    "with open((working_dir + '/input/m2+silva_otus.fasta'), \"a\") as otu_file:\n",
    "    for entry in SeqIO.parse(silva_path, \"fasta\"):\n",
    "        otu_file.write(\">\" + str(entry.description) + \"\\n\")\n",
    "        otu_file.write(str(entry.seq) + \"\\n\")"
   ]
  },
  {
   "cell_type": "code",
   "execution_count": 19,
   "metadata": {},
   "outputs": [],
   "source": [
    "#copy silva taxonomy into the combined file\n",
    "with open((working_dir + '/input/m2+silva_taxonomy.txt'), \"a\") as taxonomy_file:\n",
    "    with open(working_dir + '/input/Silva_132_release/SILVA_132_QIIME_release/taxonomy/16S_only/99/taxonomy_7_levels.txt') as silva_taxonomy_file:\n",
    "        for line in silva_taxonomy_file:\n",
    "            taxonomy_file.write(line)"
   ]
  },
  {
   "cell_type": "code",
   "execution_count": 24,
   "metadata": {},
   "outputs": [
    {
     "data": {
      "text/plain": [
       "<artifact: FeatureData[Taxonomy] uuid: 57e63fc0-5bbd-4dc0-814d-5c497b803252>"
      ]
     },
     "execution_count": 24,
     "metadata": {},
     "output_type": "execute_result"
    }
   ],
   "source": [
    "#create greengenes taxonomy and OTU artifacts\n",
    "gg_otu_path = working_dir + '/input/gg_13_8_otus/rep_set/99_otus.fasta'\n",
    "gg_taxonomy_path = working_dir + '/input/gg_13_8_otus/taxonomy/99_otu_taxonomy.txt'\n",
    "gg_otus = Artifact.import_data('FeatureData[Sequence]', gg_otu_path)\n",
    "gg_taxonomy = Artifact.import_data('FeatureData[Taxonomy]', gg_taxonomy_path, 'HeaderlessTSVTaxonomyFormat')"
   ]
  },
  {
   "cell_type": "code",
   "execution_count": 23,
   "metadata": {},
   "outputs": [
    {
     "data": {
      "text/plain": [
       "<artifact: FeatureData[Taxonomy] uuid: 04ec4b1a-47a1-44db-99d4-8d1dea7b4657>"
      ]
     },
     "execution_count": 23,
     "metadata": {},
     "output_type": "execute_result"
    }
   ],
   "source": [
    "#create greengenes+m2 taxonomy and otu artifacts\n",
    "gg_m2_otu_path = working_dir + '/input/m2+gg_otus.fasta'\n",
    "gg_m2_taxonomy_path = working_dir + '/input/m2+gg_taxonomy.txt'\n",
    "gg_m2_otus = Artifact.import_data('FeatureData[Sequence]', gg_m2_otu_path)\n",
    "gg_m2_taxonomy = Artifact.import_data('FeatureData[Taxonomy]', gg_m2_taxonomy_path, 'HeaderlessTSVTaxonomyFormat')"
   ]
  },
  {
   "cell_type": "code",
   "execution_count": 25,
   "metadata": {},
   "outputs": [
    {
     "data": {
      "text/plain": [
       "<artifact: FeatureData[Taxonomy] uuid: 1f3b97c4-b63a-4b85-b456-736ef2228f33>"
      ]
     },
     "execution_count": 25,
     "metadata": {},
     "output_type": "execute_result"
    }
   ],
   "source": [
    "#create SILVA taxonomy and OTU artifacts\n",
    "silva_otu_path = working_dir + '/input/Silva_132_release/SILVA_132_QIIME_release/rep_set/rep_set_16S_only/99/silva_132_99_16S.fna'\n",
    "silva_taxonomy_path = working_dir + '/input/Silva_132_release/SILVA_132_QIIME_release/taxonomy/16S_only/99/taxonomy_7_levels.txt'\n",
    "silva_otus = Artifact.import_data('FeatureData[Sequence]', silva_otu_path)\n",
    "silva_taxonomy = Artifact.import_data('FeatureData[Taxonomy]', silva_taxonomy_path, 'HeaderlessTSVTaxonomyFormat')"
   ]
  },
  {
   "cell_type": "code",
   "execution_count": 26,
   "metadata": {},
   "outputs": [],
   "source": [
    "#create greengenes+m2 taxonomy and otu artifacts\n",
    "silva_m2_otu_path = working_dir + '/input/m2+silva_otus.fasta'\n",
    "silva_m2_taxonomy_path = working_dir + '/input/m2+silva_taxonomy.txt'\n",
    "silva_m2_otus = Artifact.import_data('FeatureData[Sequence]', silva_m2_otu_path)\n",
    "silva_m2_taxonomy = Artifact.import_data('FeatureData[Taxonomy]', silva_m2_taxonomy_path, 'HeaderlessTSVTaxonomyFormat')"
   ]
  },
  {
   "cell_type": "code",
   "execution_count": 27,
   "metadata": {},
   "outputs": [
    {
     "data": {
      "text/plain": [
       "'/home/dylan/Documents/june_reset/input/silva_m2_taxonomy.qza'"
      ]
     },
     "execution_count": 27,
     "metadata": {},
     "output_type": "execute_result"
    }
   ],
   "source": [
    "#export the artifacts to the input folder\n",
    "gg_otus.save(working_dir + '/input/greengenes_otus.qza')\n",
    "gg_taxonomy.save(working_dir + '/input/greengenes_taxonomy.qza')\n",
    "gg_m2_otus.save(working_dir + '/input/greengenes_metaxa2_otus.qza')\n",
    "gg_m2_taxonomy.save(working_dir + '/input/greengenes_metaxa2_taxonomy.qza')\n",
    "silva_otus.save(working_dir + '/input/silva_otus.qza')\n",
    "silva_taxonomy.save(working_dir + '/input/silva_taxonomy.qza')\n",
    "silva_m2_otus.save(working_dir + '/input/silva_metaxa2_otus.qza')\n",
    "silva_m2_taxonomy.save(working_dir + '/input/silva_metaxa2_taxonomy.qza')"
   ]
  },
  {
   "cell_type": "code",
   "execution_count": null,
   "metadata": {},
   "outputs": [],
   "source": []
  }
 ],
 "metadata": {
  "kernelspec": {
   "display_name": "Python 3",
   "language": "python",
   "name": "python3"
  },
  "language_info": {
   "codemirror_mode": {
    "name": "ipython",
    "version": 3
   },
   "file_extension": ".py",
   "mimetype": "text/x-python",
   "name": "python",
   "nbconvert_exporter": "python",
   "pygments_lexer": "ipython3",
   "version": "3.6.7"
  }
 },
 "nbformat": 4,
 "nbformat_minor": 2
}
