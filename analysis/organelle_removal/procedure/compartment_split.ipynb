{
 "cells": [
  {
   "cell_type": "code",
   "execution_count": 1,
   "metadata": {},
   "outputs": [],
   "source": [
    "#import the GCMP biom table and split it into 3 feature tables, one for\n",
    "#each compartment"
   ]
  },
  {
   "cell_type": "code",
   "execution_count": 8,
   "metadata": {},
   "outputs": [],
   "source": [
    "from qiime2 import Artifact\n",
    "from qiime2.plugins.feature_table.methods import filter_samples\n",
    "from qiime2.metadata import Metadata"
   ]
  },
  {
   "cell_type": "code",
   "execution_count": 3,
   "metadata": {},
   "outputs": [],
   "source": [
    "#import the feature table\n",
    "#import the sequences (need upper?)\n",
    "#filter the sequences by the feature table\n",
    "#filter the sequences and feature table by metadata (needed?)"
   ]
  },
  {
   "cell_type": "code",
   "execution_count": 4,
   "metadata": {},
   "outputs": [],
   "source": [
    "working_dir = '/home/dylan/Documents/june_reset'"
   ]
  },
  {
   "cell_type": "code",
   "execution_count": 5,
   "metadata": {},
   "outputs": [],
   "source": [
    "#import the biom table as a feature table\n",
    "biom_path = working_dir + '/input/all.biom'\n",
    "GCMP_ft = Artifact.import_data('FeatureTable[Frequency]', biom_path,\n",
    "                               'BIOMV210Format')\n",
    "#import_data(type, view, view_type=None)"
   ]
  },
  {
   "cell_type": "code",
   "execution_count": 10,
   "metadata": {},
   "outputs": [],
   "source": [
    "#import the metadata\n",
    "metadata_path = working_dir + '/input/GCMP_EMP_map_r28_no_empty_samples.txt'\n",
    "metadata = Metadata.load(metadata_path)"
   ]
  },
  {
   "cell_type": "code",
   "execution_count": 13,
   "metadata": {},
   "outputs": [],
   "source": [
    "#split into mucus, tissue, and skeleton compartments\n",
    "compartments = ['M', 'T', 'S']\n",
    "for compartment in compartments:\n",
    "    where = \"tissue_compartment='\" + compartment + \"'\"\n",
    "    GCMP_filtered, = filter_samples(GCMP_ft, metadata = metadata,\n",
    "                                   where = where)\n",
    "    save_path = working_dir + '/input/' + compartment + \"_ft.qza\"\n",
    "    GCMP_filtered.save(save_path)"
   ]
  },
  {
   "cell_type": "code",
   "execution_count": null,
   "metadata": {},
   "outputs": [],
   "source": [
    "#import the sequences\n",
    "#mix of upper and lowercase; this version of qiime is not a fan\n",
    "seqs_path = working_dir + '/input/all.seqs.fa'\n",
    "upper_seqs_path = working_dir + '/input/GCMP.fasta'\n",
    "with open(seqs_path) as infile:\n",
    "    with open(upper_seqs_path, \"a\") as outfile:\n",
    "        for line in infile:\n",
    "            #careful to preserve the headers so they match the feature table\n",
    "            if not line.startswith(\">\"):\n",
    "                line = line.upper()\n",
    "            outfile.write(line)"
   ]
  },
  {
   "cell_type": "code",
   "execution_count": 14,
   "metadata": {},
   "outputs": [
    {
     "data": {
      "text/plain": [
       "'/home/dylan/Documents/june_reset/input/GCMP_seqs.qza'"
      ]
     },
     "execution_count": 14,
     "metadata": {},
     "output_type": "execute_result"
    }
   ],
   "source": [
    "#now we can import, and save the artifact\n",
    "GCMP_seqs = Artifact.import_data('FeatureData[Sequence]', upper_seqs_path)\n",
    "GCMP_seqs.save(working_dir + '/input/GCMP_seqs.qza')"
   ]
  },
  {
   "cell_type": "code",
   "execution_count": null,
   "metadata": {},
   "outputs": [],
   "source": []
  }
 ],
 "metadata": {
  "kernelspec": {
   "display_name": "Python 3",
   "language": "python",
   "name": "python3"
  },
  "language_info": {
   "codemirror_mode": {
    "name": "ipython",
    "version": 3
   },
   "file_extension": ".py",
   "mimetype": "text/x-python",
   "name": "python",
   "nbconvert_exporter": "python",
   "pygments_lexer": "ipython3",
   "version": "3.6.7"
  }
 },
 "nbformat": 4,
 "nbformat_minor": 2
}
