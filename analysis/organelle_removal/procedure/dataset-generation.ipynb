{
 "cells": [
  {
   "cell_type": "markdown",
   "metadata": {},
   "source": [
    "# Mock community dataset generation\n",
    "modified from tax-credit by [Caporaso Lab](https://github.com/caporaso-lab/tax-credit) and described [here](https://microbiomejournal.biomedcentral.com/articles/10.1186/s40168-018-0470-z)  \n",
    "\n",
    "To get the mockrobiota mock communities, we have to do a little bit of work."
   ]
  },
  {
   "cell_type": "code",
   "execution_count": 1,
   "metadata": {},
   "outputs": [],
   "source": [
    "import os\n",
    "from os.path import expandvars, join"
   ]
  },
  {
   "cell_type": "code",
   "execution_count": 2,
   "metadata": {},
   "outputs": [],
   "source": [
    "#first, make sure you're in the project directory\n",
    "project_dir = '/home/dylan/Documents/git_test/GCMP_Global_Disease/analysis/organelle_removal/'\n",
    "os.chdir(project_dir)"
   ]
  },
  {
   "cell_type": "code",
   "execution_count": 3,
   "metadata": {
    "scrolled": true
   },
   "outputs": [
    {
     "name": "stdout",
     "output_type": "stream",
     "text": [
      "Cloning into 'mockrobiota'...\n",
      "remote: Enumerating objects: 1631, done.\u001b[K\n",
      "remote: Total 1631 (delta 0), reused 0 (delta 0), pack-reused 1631\u001b[K\n",
      "Receiving objects: 100% (1631/1631), 696.43 KiB | 9.54 MiB/s, done.\n",
      "Resolving deltas: 100% (848/848), done.\n"
     ]
    }
   ],
   "source": [
    "#download the mockrobiota info\n",
    "!git clone https://github.com/caporaso-lab/mockrobiota.git  "
   ]
  },
  {
   "cell_type": "code",
   "execution_count": 4,
   "metadata": {},
   "outputs": [
    {
     "name": "stdout",
     "output_type": "stream",
     "text": [
      "Cloning into 'tax-credit'...\n",
      "remote: Enumerating objects: 429414, done.\u001b[K\n",
      "remote: Total 429414 (delta 0), reused 0 (delta 0), pack-reused 429414\u001b[K\n",
      "Receiving objects: 100% (429414/429414), 2.97 GiB | 8.11 MiB/s, done.\n",
      "Resolving deltas: 100% (280104/280104), done.\n",
      "Updating files: 100% (77732/77732), done.\n",
      "/home/dylan/Documents/git_test/GCMP_Global_Disease/analysis/organelle_removal/tax-credit\n",
      "Processing /home/dylan/Documents/git_test/GCMP_Global_Disease/analysis/organelle_removal/tax-credit\n",
      "Requirement already satisfied: biom-format in /home/dylan/miniconda3/envs/qiime2-2019.10/lib/python3.6/site-packages (from tax-credit==0.0.0.dev0) (2.1.7)\n",
      "Requirement already satisfied: pandas in /home/dylan/miniconda3/envs/qiime2-2019.10/lib/python3.6/site-packages (from tax-credit==0.0.0.dev0) (0.25.2)\n",
      "Requirement already satisfied: statsmodels in /home/dylan/miniconda3/envs/qiime2-2019.10/lib/python3.6/site-packages (from tax-credit==0.0.0.dev0) (0.10.1)\n",
      "Requirement already satisfied: bokeh in /home/dylan/miniconda3/envs/qiime2-2019.10/lib/python3.6/site-packages (from tax-credit==0.0.0.dev0) (1.4.0)\n",
      "Requirement already satisfied: scipy in /home/dylan/miniconda3/envs/qiime2-2019.10/lib/python3.6/site-packages (from tax-credit==0.0.0.dev0) (1.3.1)\n",
      "Requirement already satisfied: jupyter in /home/dylan/miniconda3/envs/qiime2-2019.10/lib/python3.6/site-packages (from tax-credit==0.0.0.dev0) (1.0.0)\n",
      "Requirement already satisfied: scikit-bio in /home/dylan/miniconda3/envs/qiime2-2019.10/lib/python3.6/site-packages (from tax-credit==0.0.0.dev0) (0.5.5)\n",
      "Requirement already satisfied: seaborn in /home/dylan/miniconda3/envs/qiime2-2019.10/lib/python3.6/site-packages (from tax-credit==0.0.0.dev0) (0.9.0)\n",
      "Requirement already satisfied: scikit-learn in /home/dylan/miniconda3/envs/qiime2-2019.10/lib/python3.6/site-packages (from tax-credit==0.0.0.dev0) (0.21.2)\n",
      "Requirement already satisfied: joblib in /home/dylan/miniconda3/envs/qiime2-2019.10/lib/python3.6/site-packages (from tax-credit==0.0.0.dev0) (0.14.0)\n",
      "Requirement already satisfied: six>=1.10.0 in /home/dylan/miniconda3/envs/qiime2-2019.10/lib/python3.6/site-packages (from biom-format->tax-credit==0.0.0.dev0) (1.12.0)\n",
      "Requirement already satisfied: click in /home/dylan/miniconda3/envs/qiime2-2019.10/lib/python3.6/site-packages (from biom-format->tax-credit==0.0.0.dev0) (7.0)\n",
      "Requirement already satisfied: future>=0.16.0 in /home/dylan/miniconda3/envs/qiime2-2019.10/lib/python3.6/site-packages (from biom-format->tax-credit==0.0.0.dev0) (0.18.2)\n",
      "Requirement already satisfied: numpy>=1.9.2 in /home/dylan/miniconda3/envs/qiime2-2019.10/lib/python3.6/site-packages (from biom-format->tax-credit==0.0.0.dev0) (1.19.1)\n",
      "Requirement already satisfied: python-dateutil>=2.6.1 in /home/dylan/miniconda3/envs/qiime2-2019.10/lib/python3.6/site-packages (from pandas->tax-credit==0.0.0.dev0) (2.8.0)\n",
      "Requirement already satisfied: pytz>=2017.2 in /home/dylan/miniconda3/envs/qiime2-2019.10/lib/python3.6/site-packages (from pandas->tax-credit==0.0.0.dev0) (2019.3)\n",
      "Requirement already satisfied: patsy>=0.4.0 in /home/dylan/miniconda3/envs/qiime2-2019.10/lib/python3.6/site-packages (from statsmodels->tax-credit==0.0.0.dev0) (0.5.1)\n",
      "Requirement already satisfied: pillow>=4.0 in /home/dylan/miniconda3/envs/qiime2-2019.10/lib/python3.6/site-packages (from bokeh->tax-credit==0.0.0.dev0) (6.2.1)\n",
      "Requirement already satisfied: Jinja2>=2.7 in /home/dylan/miniconda3/envs/qiime2-2019.10/lib/python3.6/site-packages (from bokeh->tax-credit==0.0.0.dev0) (2.10.3)\n",
      "Requirement already satisfied: PyYAML>=3.10 in /home/dylan/miniconda3/envs/qiime2-2019.10/lib/python3.6/site-packages (from bokeh->tax-credit==0.0.0.dev0) (5.1.2)\n",
      "Requirement already satisfied: packaging>=16.8 in /home/dylan/miniconda3/envs/qiime2-2019.10/lib/python3.6/site-packages (from bokeh->tax-credit==0.0.0.dev0) (19.2)\n",
      "Requirement already satisfied: tornado>=4.3 in /home/dylan/miniconda3/envs/qiime2-2019.10/lib/python3.6/site-packages (from bokeh->tax-credit==0.0.0.dev0) (6.0.3)\n",
      "Requirement already satisfied: notebook in /home/dylan/miniconda3/envs/qiime2-2019.10/lib/python3.6/site-packages (from jupyter->tax-credit==0.0.0.dev0) (6.0.1)\n",
      "Requirement already satisfied: ipykernel in /home/dylan/miniconda3/envs/qiime2-2019.10/lib/python3.6/site-packages (from jupyter->tax-credit==0.0.0.dev0) (5.1.3)\n",
      "Requirement already satisfied: jupyter-console in /home/dylan/miniconda3/envs/qiime2-2019.10/lib/python3.6/site-packages (from jupyter->tax-credit==0.0.0.dev0) (6.0.0)\n",
      "Requirement already satisfied: nbconvert in /home/dylan/miniconda3/envs/qiime2-2019.10/lib/python3.6/site-packages (from jupyter->tax-credit==0.0.0.dev0) (5.6.1)\n",
      "Requirement already satisfied: ipywidgets in /home/dylan/miniconda3/envs/qiime2-2019.10/lib/python3.6/site-packages (from jupyter->tax-credit==0.0.0.dev0) (7.5.1)\n",
      "Requirement already satisfied: qtconsole in /home/dylan/miniconda3/envs/qiime2-2019.10/lib/python3.6/site-packages (from jupyter->tax-credit==0.0.0.dev0) (4.6.0)\n",
      "Requirement already satisfied: lockfile>=0.10.2 in /home/dylan/miniconda3/envs/qiime2-2019.10/lib/python3.6/site-packages (from scikit-bio->tax-credit==0.0.0.dev0) (0.12.2)\n",
      "Requirement already satisfied: matplotlib>=1.4.3 in /home/dylan/miniconda3/envs/qiime2-2019.10/lib/python3.6/site-packages (from scikit-bio->tax-credit==0.0.0.dev0) (3.1.0)\n",
      "Requirement already satisfied: hdmedians>=0.13 in /home/dylan/miniconda3/envs/qiime2-2019.10/lib/python3.6/site-packages (from scikit-bio->tax-credit==0.0.0.dev0) (0.13)\n",
      "Requirement already satisfied: IPython>=3.2.0 in /home/dylan/miniconda3/envs/qiime2-2019.10/lib/python3.6/site-packages (from scikit-bio->tax-credit==0.0.0.dev0) (7.9.0)\n",
      "Requirement already satisfied: natsort>=4.0.3 in /home/dylan/miniconda3/envs/qiime2-2019.10/lib/python3.6/site-packages (from scikit-bio->tax-credit==0.0.0.dev0) (6.0.0)\n",
      "Requirement already satisfied: CacheControl>=0.11.5 in /home/dylan/miniconda3/envs/qiime2-2019.10/lib/python3.6/site-packages (from scikit-bio->tax-credit==0.0.0.dev0) (0.12.5)\n",
      "Requirement already satisfied: decorator>=3.4.2 in /home/dylan/miniconda3/envs/qiime2-2019.10/lib/python3.6/site-packages (from scikit-bio->tax-credit==0.0.0.dev0) (4.4.1)\n",
      "Requirement already satisfied: MarkupSafe>=0.23 in /home/dylan/miniconda3/envs/qiime2-2019.10/lib/python3.6/site-packages (from Jinja2>=2.7->bokeh->tax-credit==0.0.0.dev0) (1.1.1)\n",
      "Requirement already satisfied: pyparsing>=2.0.2 in /home/dylan/miniconda3/envs/qiime2-2019.10/lib/python3.6/site-packages (from packaging>=16.8->bokeh->tax-credit==0.0.0.dev0) (2.4.2)\n",
      "Requirement already satisfied: pyzmq>=17 in /home/dylan/miniconda3/envs/qiime2-2019.10/lib/python3.6/site-packages (from notebook->jupyter->tax-credit==0.0.0.dev0) (18.1.0)\n",
      "Requirement already satisfied: ipython-genutils in /home/dylan/miniconda3/envs/qiime2-2019.10/lib/python3.6/site-packages (from notebook->jupyter->tax-credit==0.0.0.dev0) (0.2.0)\n",
      "Requirement already satisfied: traitlets>=4.2.1 in /home/dylan/miniconda3/envs/qiime2-2019.10/lib/python3.6/site-packages (from notebook->jupyter->tax-credit==0.0.0.dev0) (4.3.3)\n",
      "Requirement already satisfied: prometheus-client in /home/dylan/miniconda3/envs/qiime2-2019.10/lib/python3.6/site-packages (from notebook->jupyter->tax-credit==0.0.0.dev0) (0.7.1)\n",
      "Requirement already satisfied: jupyter-core>=4.4.0 in /home/dylan/miniconda3/envs/qiime2-2019.10/lib/python3.6/site-packages (from notebook->jupyter->tax-credit==0.0.0.dev0) (4.5.0)\n",
      "Requirement already satisfied: nbformat in /home/dylan/miniconda3/envs/qiime2-2019.10/lib/python3.6/site-packages (from notebook->jupyter->tax-credit==0.0.0.dev0) (4.4.0)\n",
      "Requirement already satisfied: jupyter-client>=5.3.1 in /home/dylan/miniconda3/envs/qiime2-2019.10/lib/python3.6/site-packages (from notebook->jupyter->tax-credit==0.0.0.dev0) (5.3.3)\n",
      "Requirement already satisfied: Send2Trash in /home/dylan/miniconda3/envs/qiime2-2019.10/lib/python3.6/site-packages (from notebook->jupyter->tax-credit==0.0.0.dev0) (1.5.0)\n",
      "Requirement already satisfied: terminado>=0.8.1 in /home/dylan/miniconda3/envs/qiime2-2019.10/lib/python3.6/site-packages (from notebook->jupyter->tax-credit==0.0.0.dev0) (0.8.2)\n",
      "Requirement already satisfied: prompt-toolkit<2.1.0,>=2.0.0 in /home/dylan/miniconda3/envs/qiime2-2019.10/lib/python3.6/site-packages (from jupyter-console->jupyter->tax-credit==0.0.0.dev0) (2.0.10)\n",
      "Requirement already satisfied: pygments in /home/dylan/miniconda3/envs/qiime2-2019.10/lib/python3.6/site-packages (from jupyter-console->jupyter->tax-credit==0.0.0.dev0) (2.4.2)\n",
      "Requirement already satisfied: bleach in /home/dylan/miniconda3/envs/qiime2-2019.10/lib/python3.6/site-packages (from nbconvert->jupyter->tax-credit==0.0.0.dev0) (3.1.0)\n"
     ]
    },
    {
     "name": "stdout",
     "output_type": "stream",
     "text": [
      "Requirement already satisfied: entrypoints>=0.2.2 in /home/dylan/miniconda3/envs/qiime2-2019.10/lib/python3.6/site-packages (from nbconvert->jupyter->tax-credit==0.0.0.dev0) (0.3)\n",
      "Requirement already satisfied: mistune<2,>=0.8.1 in /home/dylan/miniconda3/envs/qiime2-2019.10/lib/python3.6/site-packages (from nbconvert->jupyter->tax-credit==0.0.0.dev0) (0.8.4)\n",
      "Requirement already satisfied: testpath in /home/dylan/miniconda3/envs/qiime2-2019.10/lib/python3.6/site-packages (from nbconvert->jupyter->tax-credit==0.0.0.dev0) (0.4.2)\n",
      "Requirement already satisfied: defusedxml in /home/dylan/miniconda3/envs/qiime2-2019.10/lib/python3.6/site-packages (from nbconvert->jupyter->tax-credit==0.0.0.dev0) (0.6.0)\n",
      "Requirement already satisfied: pandocfilters>=1.4.1 in /home/dylan/miniconda3/envs/qiime2-2019.10/lib/python3.6/site-packages (from nbconvert->jupyter->tax-credit==0.0.0.dev0) (1.4.2)\n",
      "Requirement already satisfied: widgetsnbextension~=3.5.0 in /home/dylan/miniconda3/envs/qiime2-2019.10/lib/python3.6/site-packages (from ipywidgets->jupyter->tax-credit==0.0.0.dev0) (3.5.1)\n",
      "Requirement already satisfied: kiwisolver>=1.0.1 in /home/dylan/miniconda3/envs/qiime2-2019.10/lib/python3.6/site-packages (from matplotlib>=1.4.3->scikit-bio->tax-credit==0.0.0.dev0) (1.1.0)\n",
      "Requirement already satisfied: cycler>=0.10 in /home/dylan/miniconda3/envs/qiime2-2019.10/lib/python3.6/site-packages (from matplotlib>=1.4.3->scikit-bio->tax-credit==0.0.0.dev0) (0.10.0)\n",
      "Requirement already satisfied: Cython>=0.23 in /home/dylan/miniconda3/envs/qiime2-2019.10/lib/python3.6/site-packages (from hdmedians>=0.13->scikit-bio->tax-credit==0.0.0.dev0) (0.29.13)\n",
      "Requirement already satisfied: pexpect; sys_platform != \"win32\" in /home/dylan/miniconda3/envs/qiime2-2019.10/lib/python3.6/site-packages (from IPython>=3.2.0->scikit-bio->tax-credit==0.0.0.dev0) (4.7.0)\n",
      "Requirement already satisfied: jedi>=0.10 in /home/dylan/miniconda3/envs/qiime2-2019.10/lib/python3.6/site-packages (from IPython>=3.2.0->scikit-bio->tax-credit==0.0.0.dev0) (0.15.1)\n",
      "Requirement already satisfied: backcall in /home/dylan/miniconda3/envs/qiime2-2019.10/lib/python3.6/site-packages (from IPython>=3.2.0->scikit-bio->tax-credit==0.0.0.dev0) (0.1.0)\n",
      "Requirement already satisfied: pickleshare in /home/dylan/miniconda3/envs/qiime2-2019.10/lib/python3.6/site-packages (from IPython>=3.2.0->scikit-bio->tax-credit==0.0.0.dev0) (0.7.5)\n",
      "Requirement already satisfied: setuptools>=18.5 in /home/dylan/miniconda3/envs/qiime2-2019.10/lib/python3.6/site-packages (from IPython>=3.2.0->scikit-bio->tax-credit==0.0.0.dev0) (41.6.0.post20191101)\n",
      "Requirement already satisfied: requests in /home/dylan/miniconda3/envs/qiime2-2019.10/lib/python3.6/site-packages (from CacheControl>=0.11.5->scikit-bio->tax-credit==0.0.0.dev0) (2.22.0)\n",
      "Requirement already satisfied: msgpack in /home/dylan/miniconda3/envs/qiime2-2019.10/lib/python3.6/site-packages (from CacheControl>=0.11.5->scikit-bio->tax-credit==0.0.0.dev0) (0.6.2)\n",
      "Requirement already satisfied: jsonschema!=2.5.0,>=2.4 in /home/dylan/miniconda3/envs/qiime2-2019.10/lib/python3.6/site-packages (from nbformat->notebook->jupyter->tax-credit==0.0.0.dev0) (3.1.1)\n",
      "Requirement already satisfied: wcwidth in /home/dylan/miniconda3/envs/qiime2-2019.10/lib/python3.6/site-packages (from prompt-toolkit<2.1.0,>=2.0.0->jupyter-console->jupyter->tax-credit==0.0.0.dev0) (0.1.7)\n",
      "Requirement already satisfied: webencodings in /home/dylan/miniconda3/envs/qiime2-2019.10/lib/python3.6/site-packages (from bleach->nbconvert->jupyter->tax-credit==0.0.0.dev0) (0.5.1)\n",
      "Requirement already satisfied: ptyprocess>=0.5 in /home/dylan/miniconda3/envs/qiime2-2019.10/lib/python3.6/site-packages (from pexpect; sys_platform != \"win32\"->IPython>=3.2.0->scikit-bio->tax-credit==0.0.0.dev0) (0.6.0)\n",
      "Requirement already satisfied: parso>=0.5.0 in /home/dylan/miniconda3/envs/qiime2-2019.10/lib/python3.6/site-packages (from jedi>=0.10->IPython>=3.2.0->scikit-bio->tax-credit==0.0.0.dev0) (0.5.1)\n",
      "Requirement already satisfied: urllib3!=1.25.0,!=1.25.1,<1.26,>=1.21.1 in /home/dylan/miniconda3/envs/qiime2-2019.10/lib/python3.6/site-packages (from requests->CacheControl>=0.11.5->scikit-bio->tax-credit==0.0.0.dev0) (1.25.6)\n",
      "Requirement already satisfied: idna<2.9,>=2.5 in /home/dylan/miniconda3/envs/qiime2-2019.10/lib/python3.6/site-packages (from requests->CacheControl>=0.11.5->scikit-bio->tax-credit==0.0.0.dev0) (2.8)\n",
      "Requirement already satisfied: chardet<3.1.0,>=3.0.2 in /home/dylan/miniconda3/envs/qiime2-2019.10/lib/python3.6/site-packages (from requests->CacheControl>=0.11.5->scikit-bio->tax-credit==0.0.0.dev0) (3.0.4)\n",
      "Requirement already satisfied: certifi>=2017.4.17 in /home/dylan/miniconda3/envs/qiime2-2019.10/lib/python3.6/site-packages (from requests->CacheControl>=0.11.5->scikit-bio->tax-credit==0.0.0.dev0) (2020.6.20)\n",
      "Requirement already satisfied: importlib-metadata in /home/dylan/miniconda3/envs/qiime2-2019.10/lib/python3.6/site-packages (from jsonschema!=2.5.0,>=2.4->nbformat->notebook->jupyter->tax-credit==0.0.0.dev0) (0.23)\n",
      "Requirement already satisfied: attrs>=17.4.0 in /home/dylan/miniconda3/envs/qiime2-2019.10/lib/python3.6/site-packages (from jsonschema!=2.5.0,>=2.4->nbformat->notebook->jupyter->tax-credit==0.0.0.dev0) (19.3.0)\n",
      "Requirement already satisfied: pyrsistent>=0.14.0 in /home/dylan/miniconda3/envs/qiime2-2019.10/lib/python3.6/site-packages (from jsonschema!=2.5.0,>=2.4->nbformat->notebook->jupyter->tax-credit==0.0.0.dev0) (0.15.5)\n",
      "Requirement already satisfied: zipp>=0.5 in /home/dylan/miniconda3/envs/qiime2-2019.10/lib/python3.6/site-packages (from importlib-metadata->jsonschema!=2.5.0,>=2.4->nbformat->notebook->jupyter->tax-credit==0.0.0.dev0) (0.6.0)\n",
      "Requirement already satisfied: more-itertools in /home/dylan/miniconda3/envs/qiime2-2019.10/lib/python3.6/site-packages (from zipp>=0.5->importlib-metadata->jsonschema!=2.5.0,>=2.4->nbformat->notebook->jupyter->tax-credit==0.0.0.dev0) (7.2.0)\n",
      "Building wheels for collected packages: tax-credit\n",
      "  Building wheel for tax-credit (setup.py) ... \u001b[?25ldone\n",
      "\u001b[?25h  Created wheel for tax-credit: filename=tax_credit-0.0.0.dev0-cp36-none-any.whl size=2229 sha256=6d90d8c15ffa55007a9ebb2e6149d20e3d048778781981e178c5d424b4375abc\n",
      "  Stored in directory: /home/dylan/.cache/pip/wheels/2a/2a/ac/d82954abf3b0b8507b18d454a9f89e42c4f16a55021146e7bc\n",
      "Successfully built tax-credit\n",
      "Installing collected packages: tax-credit\n",
      "  Found existing installation: tax-credit 0.0.0.dev0\n",
      "    Uninstalling tax-credit-0.0.0.dev0:\n",
      "      Successfully uninstalled tax-credit-0.0.0.dev0\n",
      "Successfully installed tax-credit-0.0.0.dev0\n"
     ]
    }
   ],
   "source": [
    "#download and install tax-credit\n",
    "!git clone https://github.com/caporaso-lab/tax-credit.git\n",
    "%cd tax-credit/\n",
    "!pip install ."
   ]
  },
  {
   "cell_type": "code",
   "execution_count": 5,
   "metadata": {
    "scrolled": true
   },
   "outputs": [],
   "source": [
    "#the organelle removal project is run on a different version of qiime than what tax-credit was written for.\n",
    "#This requires modifying a line of *process_mocks.py* to prevent errors in subsequent cells \n",
    "with open('tax_credit/process_mocks.py') as file:\n",
    "    lines = file.readlines()\n",
    "lines[373] = '    biom_table, rep_seqs, stats = dada2.methods.denoise_single(\\n'\n",
    "with open('tax_credit/process_mocks.py', 'w') as file:\n",
    "    file.writelines(lines)"
   ]
  },
  {
   "cell_type": "markdown",
   "metadata": {},
   "source": [
    "Now we're ready to create the mockrobiota datasets. The remaining code is taken from tax-credit by the [Caporaso Lab](https://github.com/caporaso-lab/tax-credit) and described [here](https://microbiomejournal.biomedcentral.com/articles/10.1186/s40168-018-0470-z), with minor modifications to fit this project."
   ]
  },
  {
   "cell_type": "code",
   "execution_count": 6,
   "metadata": {},
   "outputs": [],
   "source": [
    "# tax-credit directory\n",
    "repo_dir = join(project_dir, 'tax-credit')\n",
    "#cd to main directory of repository\n",
    "os.chdir(repo_dir)"
   ]
  },
  {
   "cell_type": "code",
   "execution_count": 7,
   "metadata": {},
   "outputs": [],
   "source": [
    "from tax_credit.process_mocks import (extract_mockrobiota_dataset_metadata,\n",
    "                                      extract_mockrobiota_data,\n",
    "                                      batch_demux,\n",
    "                                      denoise_to_phylogeny,\n",
    "                                      transport_to_repo\n",
    "                                     )"
   ]
  },
  {
   "cell_type": "markdown",
   "metadata": {},
   "source": [
    "Set source/destination filepaths"
   ]
  },
  {
   "cell_type": "code",
   "execution_count": 8,
   "metadata": {},
   "outputs": [],
   "source": [
    "# mockrobiota directory\n",
    "mockrobiota_dir = join(project_dir, \"mockrobiota\")\n",
    "# temp destination for mock community files\n",
    "mock_data_dir = join(project_dir, \"mock-community\")\n",
    "# destination for expected taxonomy assignments\n",
    "expected_data_dir = join(repo_dir, \"data\", \"precomputed-results\", \"mock-community\")\n"
   ]
  },
  {
   "cell_type": "markdown",
   "metadata": {},
   "source": [
    "First we will define which mock communities we plan to use, and necessary parameters"
   ]
  },
  {
   "cell_type": "code",
   "execution_count": 9,
   "metadata": {},
   "outputs": [],
   "source": [
    "# We will just use a sequential set of mockrobiota datasets, otherwise list community names manually\n",
    "communities = ['mock-{0}'.format(n) for n in range(12,23) if n != 17]\n",
    "#communities = ['mock-{0}'.format(n) for n in range(16,27) if n != 17]\n",
    "\n",
    "# Create dictionary of mock community dataset metadata\n",
    "community_metadata = extract_mockrobiota_dataset_metadata(mockrobiota_dir, communities)\n",
    "\n",
    "# Map marker-gene to reference database names in tax-credit and in mockrobiota\n",
    "#           marker-gene  tax-credit-dir  mockrobiota-dir version\n",
    "reference_dbs = {'16S' : ('gg_13_8_otus', 'greengenes', '13-8', '99-otus'),\n",
    "                 'ITS' : ('unite_20.11.2016', 'unite', '7-1', '99-otus')\n",
    "                }"
   ]
  },
  {
   "cell_type": "markdown",
   "metadata": {},
   "source": [
    "Now we will generate data directories in ``tax-credit`` for each community and begin populating these will files from ``mockrobiota``. This may take some time, as this involves downloading raw data fastq files."
   ]
  },
  {
   "cell_type": "code",
   "execution_count": 10,
   "metadata": {},
   "outputs": [],
   "source": [
    "extract_mockrobiota_data(communities, community_metadata, reference_dbs, \n",
    "                         mockrobiota_dir, mock_data_dir, \n",
    "                         expected_data_dir)"
   ]
  },
  {
   "cell_type": "markdown",
   "metadata": {},
   "source": [
    "## Process data in QIIME2\n",
    "Finally, we can get to processing our data. We begin by importing our data, demultiplexing, and viewing a few fastq quality summaries to decide how to trim our raw reads prior to processing."
   ]
  },
  {
   "cell_type": "markdown",
   "metadata": {},
   "source": [
    "Each dataset may require different parameters. For example, some mock communities used here require different barcode orientations, while others may already be demultiplexed. These parameters may be read in as a dictionary of tuples."
   ]
  },
  {
   "cell_type": "code",
   "execution_count": 11,
   "metadata": {},
   "outputs": [],
   "source": [
    "# {community : (demultiplex, rev_comp_barcodes, rev_comp_mapping_barcodes)}\n",
    "demux_params = {'mock-1' : (True, False, True),\n",
    "               'mock-2' : (True, False, True),\n",
    "               'mock-3' : (True, False, False),\n",
    "               'mock-4' : (True, False, True),\n",
    "               'mock-5' : (True, False, True),\n",
    "               'mock-6' : (True, False, True),\n",
    "               'mock-7' : (True, False, True),\n",
    "               'mock-8' : (True, False, True),\n",
    "               'mock-9' : (True, False, True),\n",
    "               'mock-10' : (True, False, True),\n",
    "               'mock-12' : (False, False, False),\n",
    "               'mock-13' : (False, False, False),\n",
    "               'mock-14' : (False, False, False),\n",
    "               'mock-15' : (False, False, False),\n",
    "               'mock-16' : (False, False, False),\n",
    "               'mock-18' : (False, False, False),\n",
    "               'mock-19' : (False, False, False),\n",
    "               'mock-20' : (False, False, False),\n",
    "               'mock-21' : (False, False, False),\n",
    "               'mock-22' : (False, False, False),\n",
    "               'mock-23' : (False, False, False),\n",
    "               'mock-24' : (False, False, False),\n",
    "               'mock-25' : (False, False, False),\n",
    "               'mock-26' : (True, False, False), # Note we only use samples 1-40 in mock-26\n",
    "              }"
   ]
  },
  {
   "cell_type": "code",
   "execution_count": 12,
   "metadata": {
    "scrolled": true
   },
   "outputs": [
    {
     "name": "stdout",
     "output_type": "stream",
     "text": [
      "mock-12 complete\n",
      "mock-13 complete\n",
      "mock-14 complete\n",
      "mock-15 complete\n",
      "mock-16 complete\n",
      "mock-18 complete\n",
      "mock-19 complete\n",
      "mock-20 complete\n",
      "mock-21 complete\n",
      "mock-22 complete\n"
     ]
    }
   ],
   "source": [
    "batch_demux(communities, mock_data_dir, demux_params)"
   ]
  },
  {
   "cell_type": "markdown",
   "metadata": {},
   "source": [
    "To view the ``demux_summary.qzv`` (demultiplexed sequences per sample counts) and ``demux_plot_qual.qzv`` (fastq quality profiles) summaries that you just created, drag and drop the files into [q2view](https://view.qiime2.org/)"
   ]
  },
  {
   "cell_type": "markdown",
   "metadata": {},
   "source": [
    "Use the fastq quality data above to decide how to proceed. As each dataset will have different quality profiles and read lengths, we will enter trimming parameters as a dictionary. We can use this dict to pass other parameters to ``denoise_to_phylogeny()``, including whether we want to build a phylogeny for each community."
   ]
  },
  {
   "cell_type": "code",
   "execution_count": 13,
   "metadata": {},
   "outputs": [],
   "source": [
    "# {community : (trim_left, trunc_len, build_phylogeny)}\n",
    "trim_params = {'mock-1' : (0, 100, True),\n",
    "               'mock-2' : (0, 130, True),\n",
    "               'mock-3' : (0, 150, True),\n",
    "               'mock-4' : (0, 150, True),\n",
    "               'mock-5' : (0, 200, True),\n",
    "               'mock-6' : (0, 50, True),\n",
    "               'mock-7' : (0, 90, True),\n",
    "               'mock-8' : (0, 100, True),\n",
    "               'mock-9' : (0, 100, False),\n",
    "               'mock-10' : (0, 100, False),\n",
    "               'mock-12' : (0, 230, True),\n",
    "               'mock-13' : (0, 250, True),\n",
    "               'mock-14' : (0, 250, True),\n",
    "               'mock-15' : (0, 250, True),\n",
    "               'mock-16' : (19, 231, False),\n",
    "               'mock-18' : (19, 231, False),\n",
    "               'mock-19' : (19, 231, False),\n",
    "               'mock-20' : (0, 250, False),\n",
    "               'mock-21' : (0, 250, False),\n",
    "               'mock-22' : (19, 250, False),\n",
    "               'mock-23' : (19, 250, False),\n",
    "               'mock-24' : (0, 150, False),\n",
    "               'mock-25' : (0, 165, False),\n",
    "               'mock-26' : (0, 290, False),\n",
    "              }"
   ]
  },
  {
   "cell_type": "markdown",
   "metadata": {},
   "source": [
    "Now we will quality filter with ``dada2``, and use the representative sequences to generate a phylogeny."
   ]
  },
  {
   "cell_type": "code",
   "execution_count": 14,
   "metadata": {
    "scrolled": false
   },
   "outputs": [
    {
     "name": "stdout",
     "output_type": "stream",
     "text": [
      "Running external command line application(s). This may print messages to stdout and/or stderr.\n",
      "The command(s) being run are below. These commands cannot be manually re-run as they will depend on temporary files that no longer exist.\n",
      "\n",
      "Command: run_dada_single.R /tmp/qiime2-archive-ateuc1yf/f4dd3aab-1a2b-4cc1-97ab-43ce335440c4/data /tmp/tmpue258_jo/output.tsv.biom /tmp/tmpue258_jo/track.tsv /tmp/tmpue258_jo 230 0 2.0 2 Inf consensus 1.0 1 1000000 NULL 16\n",
      "\n",
      "Running external command line application. This may print messages to stdout and/or stderr.\n",
      "The command being run is below. This command cannot be manually re-run as it will depend on temporary files that no longer exist.\n",
      "\n",
      "Command: mafft --preservecase --inputorder --thread 1 /tmp/qiime2-archive-w9w0f8pj/33fa2322-83d5-455c-8e6e-a761fb5ce92e/data/dna-sequences.fasta\n",
      "\n",
      "Running external command line application. This may print messages to stdout and/or stderr.\n",
      "The command being run is below. This command cannot be manually re-run as it will depend on temporary files that no longer exist.\n",
      "\n",
      "Command: FastTree -quote -nt /tmp/qiime2-archive-op_kyozo/bd8eb9e6-ba04-494e-972e-a6341c6f277b/data/aligned-dna-sequences.fasta\n",
      "\n",
      "mock-12 complete\n",
      "Running external command line application(s). This may print messages to stdout and/or stderr.\n",
      "The command(s) being run are below. These commands cannot be manually re-run as they will depend on temporary files that no longer exist.\n",
      "\n",
      "Command: run_dada_single.R /tmp/qiime2-archive-n0h79m5z/117d73bd-6470-49ca-a94c-7e90db2b8dd0/data /tmp/tmp02aqpcym/output.tsv.biom /tmp/tmp02aqpcym/track.tsv /tmp/tmp02aqpcym 250 0 2.0 2 Inf consensus 1.0 1 1000000 NULL 16\n",
      "\n",
      "Running external command line application. This may print messages to stdout and/or stderr.\n",
      "The command being run is below. This command cannot be manually re-run as it will depend on temporary files that no longer exist.\n",
      "\n",
      "Command: mafft --preservecase --inputorder --thread 1 /tmp/qiime2-archive-6udcispd/3a27c785-ea87-4bb3-8ea6-25ce9b88d3f5/data/dna-sequences.fasta\n",
      "\n",
      "Running external command line application. This may print messages to stdout and/or stderr.\n",
      "The command being run is below. This command cannot be manually re-run as it will depend on temporary files that no longer exist.\n",
      "\n",
      "Command: FastTree -quote -nt /tmp/qiime2-archive-3m9z2v94/535a31ed-274a-4174-8da4-9f92c98687cb/data/aligned-dna-sequences.fasta\n",
      "\n",
      "mock-13 complete\n",
      "Running external command line application(s). This may print messages to stdout and/or stderr.\n",
      "The command(s) being run are below. These commands cannot be manually re-run as they will depend on temporary files that no longer exist.\n",
      "\n",
      "Command: run_dada_single.R /tmp/qiime2-archive-uov9ybvu/3f98a07e-2f0c-44b1-8859-b8bc8427cb20/data /tmp/tmpgm54p_st/output.tsv.biom /tmp/tmpgm54p_st/track.tsv /tmp/tmpgm54p_st 250 0 2.0 2 Inf consensus 1.0 1 1000000 NULL 16\n",
      "\n",
      "Running external command line application. This may print messages to stdout and/or stderr.\n",
      "The command being run is below. This command cannot be manually re-run as it will depend on temporary files that no longer exist.\n",
      "\n",
      "Command: mafft --preservecase --inputorder --thread 1 /tmp/qiime2-archive-kj2z7my2/5541e578-e379-42c3-996b-442dfd04802f/data/dna-sequences.fasta\n",
      "\n",
      "Running external command line application. This may print messages to stdout and/or stderr.\n",
      "The command being run is below. This command cannot be manually re-run as it will depend on temporary files that no longer exist.\n",
      "\n",
      "Command: FastTree -quote -nt /tmp/qiime2-archive-a958fhh5/55e20aa6-6e8e-4aac-a7dc-176671a8ffc2/data/aligned-dna-sequences.fasta\n",
      "\n",
      "mock-14 complete\n",
      "Running external command line application(s). This may print messages to stdout and/or stderr.\n",
      "The command(s) being run are below. These commands cannot be manually re-run as they will depend on temporary files that no longer exist.\n",
      "\n",
      "Command: run_dada_single.R /tmp/qiime2-archive-aodfic01/adf92020-f6e9-407a-bf2c-82baa00b05d4/data /tmp/tmpp0rh9g_q/output.tsv.biom /tmp/tmpp0rh9g_q/track.tsv /tmp/tmpp0rh9g_q 250 0 2.0 2 Inf consensus 1.0 1 1000000 NULL 16\n",
      "\n",
      "Running external command line application. This may print messages to stdout and/or stderr.\n",
      "The command being run is below. This command cannot be manually re-run as it will depend on temporary files that no longer exist.\n",
      "\n",
      "Command: mafft --preservecase --inputorder --thread 1 /tmp/qiime2-archive-kvlom8rg/137af415-7551-4267-9690-638e58ba66cb/data/dna-sequences.fasta\n",
      "\n",
      "Running external command line application. This may print messages to stdout and/or stderr.\n",
      "The command being run is below. This command cannot be manually re-run as it will depend on temporary files that no longer exist.\n",
      "\n",
      "Command: FastTree -quote -nt /tmp/qiime2-archive-ofz_7tce/e3e37a76-c578-4972-b4c4-ee348044310d/data/aligned-dna-sequences.fasta\n",
      "\n",
      "mock-15 complete\n",
      "Running external command line application(s). This may print messages to stdout and/or stderr.\n",
      "The command(s) being run are below. These commands cannot be manually re-run as they will depend on temporary files that no longer exist.\n",
      "\n",
      "Command: run_dada_single.R /tmp/qiime2-archive-bsnosz8q/18e8e058-f6e8-4bef-a4ab-dc8c0294aee9/data /tmp/tmp4ccb3rew/output.tsv.biom /tmp/tmp4ccb3rew/track.tsv /tmp/tmp4ccb3rew 231 19 2.0 2 Inf consensus 1.0 1 1000000 NULL 16\n",
      "\n",
      "mock-16 complete\n",
      "Running external command line application(s). This may print messages to stdout and/or stderr.\n",
      "The command(s) being run are below. These commands cannot be manually re-run as they will depend on temporary files that no longer exist.\n",
      "\n",
      "Command: run_dada_single.R /tmp/qiime2-archive-z94c4wv6/0f077b8c-9444-479e-8c7b-5a60a7580303/data /tmp/tmp_27cj8is/output.tsv.biom /tmp/tmp_27cj8is/track.tsv /tmp/tmp_27cj8is 231 19 2.0 2 Inf consensus 1.0 1 1000000 NULL 16\n",
      "\n",
      "mock-18 complete\n",
      "Running external command line application(s). This may print messages to stdout and/or stderr.\n",
      "The command(s) being run are below. These commands cannot be manually re-run as they will depend on temporary files that no longer exist.\n",
      "\n",
      "Command: run_dada_single.R /tmp/qiime2-archive-ovdkg1jq/1ac818f8-06b7-46e7-a9b0-776dbbb3d677/data /tmp/tmpmyfgn_e1/output.tsv.biom /tmp/tmpmyfgn_e1/track.tsv /tmp/tmpmyfgn_e1 231 19 2.0 2 Inf consensus 1.0 1 1000000 NULL 16\n",
      "\n",
      "mock-19 complete\n",
      "Running external command line application(s). This may print messages to stdout and/or stderr.\n",
      "The command(s) being run are below. These commands cannot be manually re-run as they will depend on temporary files that no longer exist.\n",
      "\n",
      "Command: run_dada_single.R /tmp/qiime2-archive-mcio006s/8c686070-fbc7-4ea9-87a3-7e5e77fd1ef7/data /tmp/tmppgamu40j/output.tsv.biom /tmp/tmppgamu40j/track.tsv /tmp/tmppgamu40j 250 0 2.0 2 Inf consensus 1.0 1 1000000 NULL 16\n",
      "\n",
      "mock-20 complete\n",
      "Running external command line application(s). This may print messages to stdout and/or stderr.\n",
      "The command(s) being run are below. These commands cannot be manually re-run as they will depend on temporary files that no longer exist.\n",
      "\n",
      "Command: run_dada_single.R /tmp/qiime2-archive-5xmox24f/925fcd32-6569-4263-8645-3f38e2e21d9e/data /tmp/tmp9clmz4e7/output.tsv.biom /tmp/tmp9clmz4e7/track.tsv /tmp/tmp9clmz4e7 250 0 2.0 2 Inf consensus 1.0 1 1000000 NULL 16\n",
      "\n",
      "mock-21 complete\n",
      "Running external command line application(s). This may print messages to stdout and/or stderr.\n",
      "The command(s) being run are below. These commands cannot be manually re-run as they will depend on temporary files that no longer exist.\n",
      "\n",
      "Command: run_dada_single.R /tmp/qiime2-archive-9njlm7ye/42c137f4-6d41-464b-ab07-44c32b1efff1/data /tmp/tmpb768ik66/output.tsv.biom /tmp/tmpb768ik66/track.tsv /tmp/tmpb768ik66 250 19 2.0 2 Inf consensus 1.0 1 1000000 NULL 16\n",
      "\n",
      "mock-22 complete\n"
     ]
    }
   ],
   "source": [
    "#this command may take hours\n",
    "denoise_to_phylogeny(communities, mock_data_dir, trim_params)"
   ]
  },
  {
   "cell_type": "markdown",
   "metadata": {},
   "source": [
    "To view the ``feature_table_summary.qzv`` summaries you just created, drag and drop the files into [q2view](https://view.qiime2.org/)"
   ]
  },
  {
   "cell_type": "markdown",
   "metadata": {},
   "source": [
    "## Extract results and move to repo"
   ]
  },
  {
   "cell_type": "code",
   "execution_count": 15,
   "metadata": {},
   "outputs": [],
   "source": [
    "transport_to_repo(communities, mock_data_dir, repo_dir)"
   ]
  },
  {
   "cell_type": "code",
   "execution_count": null,
   "metadata": {},
   "outputs": [],
   "source": []
  }
 ],
 "metadata": {
  "anaconda-cloud": {},
  "kernelspec": {
   "display_name": "Python 3",
   "language": "python",
   "name": "python3"
  },
  "language_info": {
   "codemirror_mode": {
    "name": "ipython",
    "version": 3
   },
   "file_extension": ".py",
   "mimetype": "text/x-python",
   "name": "python",
   "nbconvert_exporter": "python",
   "pygments_lexer": "ipython3",
   "version": "3.6.7"
  }
 },
 "nbformat": 4,
 "nbformat_minor": 1
}
