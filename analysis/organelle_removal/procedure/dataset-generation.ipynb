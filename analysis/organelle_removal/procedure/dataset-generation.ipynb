{
 "cells": [
  {
   "cell_type": "markdown",
   "metadata": {},
   "source": [
    "# Mock community dataset generation\n",
    "modified from tax-credit by [Caporaso Lab](https://github.com/caporaso-lab/tax-credit) and described [here](https://microbiomejournal.biomedcentral.com/articles/10.1186/s40168-018-0470-z)  \n",
    "\n",
    "To get the mockrobiota mock communities, we have to do a little bit of work."
   ]
  },
  {
   "cell_type": "code",
   "execution_count": 1,
   "metadata": {},
   "outputs": [],
   "source": [
    "import os\n",
    "from os.path import expandvars, join"
   ]
  },
  {
   "cell_type": "code",
   "execution_count": 2,
   "metadata": {},
   "outputs": [],
   "source": [
    "#first, make sure you're in the project directory\n",
    "project_dir = '/mnt/c/Users/Dylan/Documents/zaneveld/GCMP_Global_Disease-master/analysis/organelle_removal/'\n",
    "os.chdir(project_dir)"
   ]
  },
  {
   "cell_type": "code",
   "execution_count": 3,
   "metadata": {
    "scrolled": true
   },
   "outputs": [
    {
     "name": "stdout",
     "output_type": "stream",
     "text": [
      "fatal: destination path 'mockrobiota' already exists and is not an empty directory.\r\n"
     ]
    }
   ],
   "source": [
    "#download the mockrobiota info\n",
    "!git clone https://github.com/caporaso-lab/mockrobiota.git  "
   ]
  },
  {
   "cell_type": "code",
   "execution_count": 4,
   "metadata": {},
   "outputs": [
    {
     "name": "stdout",
     "output_type": "stream",
     "text": [
      "fatal: destination path 'tax-credit' already exists and is not an empty directory.\n",
      "/mnt/c/Users/Dylan/Documents/zaneveld/GCMP_Global_Disease-master/analysis/organelle_removal/tax-credit\n",
      "Processing /mnt/c/Users/Dylan/Documents/zaneveld/GCMP_Global_Disease-master/analysis/organelle_removal/tax-credit\n",
      "^C\n",
      "\u001b[31mERROR: Operation cancelled by user\u001b[0m\n"
     ]
    }
   ],
   "source": [
    "#download and install tax-credit\n",
    "!git clone https://github.com/caporaso-lab/tax-credit.git\n",
    "%cd tax-credit/\n",
    "!pip install ."
   ]
  },
  {
   "cell_type": "code",
   "execution_count": 5,
   "metadata": {
    "scrolled": true
   },
   "outputs": [],
   "source": [
    "#the organelle removal project is run on a different version of qiime than what tax-credit was written for.\n",
    "#This requires modifying a line of *process_mocks.py* to prevent errors in subsequent cells \n",
    "with open('tax_credit/process_mocks.py') as file:\n",
    "    lines = file.readlines()\n",
    "lines[373] = '    biom_table, rep_seqs, stats = dada2.methods.denoise_single(\\n'\n",
    "with open('tax_credit/process_mocks.py', 'w') as file:\n",
    "    file.writelines(lines)"
   ]
  },
  {
   "cell_type": "markdown",
   "metadata": {},
   "source": [
    "Now we're ready to create the mockrobiota datasets. The remaining code is taken from tax-credit by the [Caporaso Lab](https://github.com/caporaso-lab/tax-credit) and described [here](https://microbiomejournal.biomedcentral.com/articles/10.1186/s40168-018-0470-z), with minor modifications to fit this project."
   ]
  },
  {
   "cell_type": "code",
   "execution_count": 6,
   "metadata": {},
   "outputs": [],
   "source": [
    "# tax-credit directory\n",
    "repo_dir = join(project_dir, 'tax-credit')\n",
    "#cd to main directory of repository\n",
    "os.chdir(repo_dir)"
   ]
  },
  {
   "cell_type": "code",
   "execution_count": 7,
   "metadata": {},
   "outputs": [],
   "source": [
    "from tax_credit.process_mocks import (extract_mockrobiota_dataset_metadata,\n",
    "                                      extract_mockrobiota_data,\n",
    "                                      batch_demux,\n",
    "                                      denoise_to_phylogeny,\n",
    "                                      transport_to_repo\n",
    "                                     )"
   ]
  },
  {
   "cell_type": "markdown",
   "metadata": {},
   "source": [
    "Set source/destination filepaths"
   ]
  },
  {
   "cell_type": "code",
   "execution_count": 8,
   "metadata": {},
   "outputs": [],
   "source": [
    "# mockrobiota directory\n",
    "mockrobiota_dir = join(project_dir, \"mockrobiota\")\n",
    "# temp destination for mock community files\n",
    "mock_data_dir = join(project_dir, \"mock-community\")\n",
    "# destination for expected taxonomy assignments\n",
    "expected_data_dir = join(repo_dir, \"data\", \"precomputed-results\", \"mock-community\")\n"
   ]
  },
  {
   "cell_type": "markdown",
   "metadata": {},
   "source": [
    "First we will define which mock communities we plan to use, and necessary parameters"
   ]
  },
  {
   "cell_type": "code",
   "execution_count": 9,
   "metadata": {},
   "outputs": [],
   "source": [
    "# We will just use a sequential set of mockrobiota datasets, otherwise list community names manually\n",
    "communities = ['mock-{0}'.format(n) for n in range(12,23) if n != 17]\n",
    "#communities = ['mock-{0}'.format(n) for n in range(16,27) if n != 17]\n",
    "\n",
    "# Create dictionary of mock community dataset metadata\n",
    "community_metadata = extract_mockrobiota_dataset_metadata(mockrobiota_dir, communities)\n",
    "\n",
    "# Map marker-gene to reference database names in tax-credit and in mockrobiota\n",
    "#           marker-gene  tax-credit-dir  mockrobiota-dir version\n",
    "reference_dbs = {'16S' : ('gg_13_8_otus', 'greengenes', '13-8', '99-otus'),\n",
    "                 'ITS' : ('unite_20.11.2016', 'unite', '7-1', '99-otus')\n",
    "                }"
   ]
  },
  {
   "cell_type": "markdown",
   "metadata": {},
   "source": [
    "Now we will generate data directories in ``tax-credit`` for each community and begin populating these will files from ``mockrobiota``. This may take some time, as this involves downloading raw data fastq files."
   ]
  },
  {
   "cell_type": "code",
   "execution_count": 10,
   "metadata": {},
   "outputs": [],
   "source": [
    "extract_mockrobiota_data(communities, community_metadata, reference_dbs, \n",
    "                         mockrobiota_dir, mock_data_dir, \n",
    "                         expected_data_dir)"
   ]
  },
  {
   "cell_type": "markdown",
   "metadata": {},
   "source": [
    "## Process data in QIIME2\n",
    "Finally, we can get to processing our data. We begin by importing our data, demultiplexing, and viewing a few fastq quality summaries to decide how to trim our raw reads prior to processing."
   ]
  },
  {
   "cell_type": "markdown",
   "metadata": {},
   "source": [
    "Each dataset may require different parameters. For example, some mock communities used here require different barcode orientations, while others may already be demultiplexed. These parameters may be read in as a dictionary of tuples."
   ]
  },
  {
   "cell_type": "code",
   "execution_count": 11,
   "metadata": {},
   "outputs": [],
   "source": [
    "# {community : (demultiplex, rev_comp_barcodes, rev_comp_mapping_barcodes)}\n",
    "demux_params = {'mock-1' : (True, False, True),\n",
    "               'mock-2' : (True, False, True),\n",
    "               'mock-3' : (True, False, False),\n",
    "               'mock-4' : (True, False, True),\n",
    "               'mock-5' : (True, False, True),\n",
    "               'mock-6' : (True, False, True),\n",
    "               'mock-7' : (True, False, True),\n",
    "               'mock-8' : (True, False, True),\n",
    "               'mock-9' : (True, False, True),\n",
    "               'mock-10' : (True, False, True),\n",
    "               'mock-12' : (False, False, False),\n",
    "               'mock-13' : (False, False, False),\n",
    "               'mock-14' : (False, False, False),\n",
    "               'mock-15' : (False, False, False),\n",
    "               'mock-16' : (False, False, False),\n",
    "               'mock-18' : (False, False, False),\n",
    "               'mock-19' : (False, False, False),\n",
    "               'mock-20' : (False, False, False),\n",
    "               'mock-21' : (False, False, False),\n",
    "               'mock-22' : (False, False, False),\n",
    "               'mock-23' : (False, False, False),\n",
    "               'mock-24' : (False, False, False),\n",
    "               'mock-25' : (False, False, False),\n",
    "               'mock-26' : (True, False, False), # Note we only use samples 1-40 in mock-26\n",
    "              }"
   ]
  },
  {
   "cell_type": "code",
   "execution_count": 12,
   "metadata": {
    "scrolled": true
   },
   "outputs": [
    {
     "name": "stdout",
     "output_type": "stream",
     "text": [
      "mock-12 complete\n",
      "mock-13 complete\n",
      "mock-14 complete\n",
      "mock-15 complete\n",
      "mock-16 complete\n",
      "mock-18 complete\n",
      "mock-19 complete\n",
      "mock-20 complete\n",
      "mock-21 complete\n",
      "mock-22 complete\n"
     ]
    }
   ],
   "source": [
    "batch_demux(communities, mock_data_dir, demux_params)"
   ]
  },
  {
   "cell_type": "markdown",
   "metadata": {},
   "source": [
    "To view the ``demux_summary.qzv`` (demultiplexed sequences per sample counts) and ``demux_plot_qual.qzv`` (fastq quality profiles) summaries that you just created, drag and drop the files into [q2view](https://view.qiime2.org/)"
   ]
  },
  {
   "cell_type": "markdown",
   "metadata": {},
   "source": [
    "Use the fastq quality data above to decide how to proceed. As each dataset will have different quality profiles and read lengths, we will enter trimming parameters as a dictionary. We can use this dict to pass other parameters to ``denoise_to_phylogeny()``, including whether we want to build a phylogeny for each community."
   ]
  },
  {
   "cell_type": "code",
   "execution_count": 13,
   "metadata": {},
   "outputs": [],
   "source": [
    "# {community : (trim_left, trunc_len, build_phylogeny)}\n",
    "trim_params = {'mock-1' : (0, 100, True),\n",
    "               'mock-2' : (0, 130, True),\n",
    "               'mock-3' : (0, 150, True),\n",
    "               'mock-4' : (0, 150, True),\n",
    "               'mock-5' : (0, 200, True),\n",
    "               'mock-6' : (0, 50, True),\n",
    "               'mock-7' : (0, 90, True),\n",
    "               'mock-8' : (0, 100, True),\n",
    "               'mock-9' : (0, 100, False),\n",
    "               'mock-10' : (0, 100, False),\n",
    "               'mock-12' : (0, 230, True),\n",
    "               'mock-13' : (0, 250, True),\n",
    "               'mock-14' : (0, 250, True),\n",
    "               'mock-15' : (0, 250, True),\n",
    "               'mock-16' : (19, 231, False),\n",
    "               'mock-18' : (19, 231, False),\n",
    "               'mock-19' : (19, 231, False),\n",
    "               'mock-20' : (0, 250, False),\n",
    "               'mock-21' : (0, 250, False),\n",
    "               'mock-22' : (19, 250, False),\n",
    "               'mock-23' : (19, 250, False),\n",
    "               'mock-24' : (0, 150, False),\n",
    "               'mock-25' : (0, 165, False),\n",
    "               'mock-26' : (0, 290, False),\n",
    "              }"
   ]
  },
  {
   "cell_type": "markdown",
   "metadata": {},
   "source": [
    "Now we will quality filter with ``dada2``, and use the representative sequences to generate a phylogeny."
   ]
  },
  {
   "cell_type": "code",
   "execution_count": 14,
   "metadata": {
    "scrolled": false
   },
   "outputs": [
    {
     "name": "stdout",
     "output_type": "stream",
     "text": [
      "Running external command line application(s). This may print messages to stdout and/or stderr.\n",
      "The command(s) being run are below. These commands cannot be manually re-run as they will depend on temporary files that no longer exist.\n",
      "\n",
      "Command: run_dada_single.R /tmp/qiime2-archive-ih1lwiwb/1d483815-15da-4a4c-b6ef-05cc43e1b921/data /tmp/tmpjwi0504r/output.tsv.biom /tmp/tmpjwi0504r/track.tsv /tmp/tmpjwi0504r 230 0 2.0 2 Inf independent consensus 1.0 1 1000000 NULL 16\n",
      "\n"
     ]
    },
    {
     "name": "stderr",
     "output_type": "stream",
     "text": [
      "/home/dylan/miniconda3/envs/qiime2-2020.8/lib/python3.6/site-packages/q2_feature_table/_summarize/_visualizer.py:122: FutureWarning: The signature of `Series.to_csv` was aligned to that of `DataFrame.to_csv`, and argument 'header' will change its default value from False to True: please pass an explicit value to suppress this warning.\n",
      "  os.path.join(output_dir, 'sample-frequency-detail.csv'))\n",
      "/home/dylan/miniconda3/envs/qiime2-2020.8/lib/python3.6/site-packages/q2_feature_table/_summarize/_visualizer.py:124: FutureWarning: The signature of `Series.to_csv` was aligned to that of `DataFrame.to_csv`, and argument 'header' will change its default value from False to True: please pass an explicit value to suppress this warning.\n",
      "  os.path.join(output_dir, 'feature-frequency-detail.csv'))\n"
     ]
    },
    {
     "name": "stdout",
     "output_type": "stream",
     "text": [
      "Running external command line application. This may print messages to stdout and/or stderr.\n",
      "The command being run is below. This command cannot be manually re-run as it will depend on temporary files that no longer exist.\n",
      "\n",
      "Command: mafft --preservecase --inputorder --thread 1 /tmp/qiime2-archive-vaptcq__/56f99adf-238a-45b9-bf99-6185e4b56c66/data/dna-sequences.fasta\n",
      "\n",
      "Running external command line application. This may print messages to stdout and/or stderr.\n",
      "The command being run is below. This command cannot be manually re-run as it will depend on temporary files that no longer exist.\n",
      "\n",
      "Command: FastTree -quote -nt /tmp/qiime2-archive-sjqdf83k/1b73f5fb-141d-4d2f-b73b-0b6f870ff289/data/aligned-dna-sequences.fasta\n",
      "\n",
      "mock-12 complete\n",
      "Running external command line application(s). This may print messages to stdout and/or stderr.\n",
      "The command(s) being run are below. These commands cannot be manually re-run as they will depend on temporary files that no longer exist.\n",
      "\n",
      "Command: run_dada_single.R /tmp/qiime2-archive-qazpqu53/f191df9a-a68c-448a-be6d-c4e591253758/data /tmp/tmpq9y1bhss/output.tsv.biom /tmp/tmpq9y1bhss/track.tsv /tmp/tmpq9y1bhss 250 0 2.0 2 Inf independent consensus 1.0 1 1000000 NULL 16\n",
      "\n"
     ]
    },
    {
     "name": "stderr",
     "output_type": "stream",
     "text": [
      "/home/dylan/miniconda3/envs/qiime2-2020.8/lib/python3.6/site-packages/q2_feature_table/_summarize/_visualizer.py:122: FutureWarning: The signature of `Series.to_csv` was aligned to that of `DataFrame.to_csv`, and argument 'header' will change its default value from False to True: please pass an explicit value to suppress this warning.\n",
      "  os.path.join(output_dir, 'sample-frequency-detail.csv'))\n",
      "/home/dylan/miniconda3/envs/qiime2-2020.8/lib/python3.6/site-packages/q2_feature_table/_summarize/_visualizer.py:124: FutureWarning: The signature of `Series.to_csv` was aligned to that of `DataFrame.to_csv`, and argument 'header' will change its default value from False to True: please pass an explicit value to suppress this warning.\n",
      "  os.path.join(output_dir, 'feature-frequency-detail.csv'))\n"
     ]
    },
    {
     "name": "stdout",
     "output_type": "stream",
     "text": [
      "Running external command line application. This may print messages to stdout and/or stderr.\n",
      "The command being run is below. This command cannot be manually re-run as it will depend on temporary files that no longer exist.\n",
      "\n",
      "Command: mafft --preservecase --inputorder --thread 1 /tmp/qiime2-archive-mppjoyd5/b2804c5c-4bd9-406f-9294-dd827d01b44a/data/dna-sequences.fasta\n",
      "\n",
      "Running external command line application. This may print messages to stdout and/or stderr.\n",
      "The command being run is below. This command cannot be manually re-run as it will depend on temporary files that no longer exist.\n",
      "\n",
      "Command: FastTree -quote -nt /tmp/qiime2-archive-kfv45_m_/7ba50e93-5f37-4d4c-a7ca-fe674b2f6d94/data/aligned-dna-sequences.fasta\n",
      "\n",
      "mock-13 complete\n",
      "Running external command line application(s). This may print messages to stdout and/or stderr.\n",
      "The command(s) being run are below. These commands cannot be manually re-run as they will depend on temporary files that no longer exist.\n",
      "\n",
      "Command: run_dada_single.R /tmp/qiime2-archive-ij_iro1z/1e447396-7ba2-4fe2-8fd7-54353fd36047/data /tmp/tmpdvmwd49f/output.tsv.biom /tmp/tmpdvmwd49f/track.tsv /tmp/tmpdvmwd49f 250 0 2.0 2 Inf independent consensus 1.0 1 1000000 NULL 16\n",
      "\n"
     ]
    },
    {
     "name": "stderr",
     "output_type": "stream",
     "text": [
      "/home/dylan/miniconda3/envs/qiime2-2020.8/lib/python3.6/site-packages/q2_feature_table/_summarize/_visualizer.py:122: FutureWarning: The signature of `Series.to_csv` was aligned to that of `DataFrame.to_csv`, and argument 'header' will change its default value from False to True: please pass an explicit value to suppress this warning.\n",
      "  os.path.join(output_dir, 'sample-frequency-detail.csv'))\n",
      "/home/dylan/miniconda3/envs/qiime2-2020.8/lib/python3.6/site-packages/q2_feature_table/_summarize/_visualizer.py:124: FutureWarning: The signature of `Series.to_csv` was aligned to that of `DataFrame.to_csv`, and argument 'header' will change its default value from False to True: please pass an explicit value to suppress this warning.\n",
      "  os.path.join(output_dir, 'feature-frequency-detail.csv'))\n"
     ]
    },
    {
     "name": "stdout",
     "output_type": "stream",
     "text": [
      "Running external command line application. This may print messages to stdout and/or stderr.\n",
      "The command being run is below. This command cannot be manually re-run as it will depend on temporary files that no longer exist.\n",
      "\n",
      "Command: mafft --preservecase --inputorder --thread 1 /tmp/qiime2-archive-9pib_6nk/009125ac-663c-4e34-8cc1-1aa7ba2766f3/data/dna-sequences.fasta\n",
      "\n",
      "Running external command line application. This may print messages to stdout and/or stderr.\n",
      "The command being run is below. This command cannot be manually re-run as it will depend on temporary files that no longer exist.\n",
      "\n",
      "Command: FastTree -quote -nt /tmp/qiime2-archive-1rmfsctx/7ed63ede-e403-4e36-84b6-38365d71c17e/data/aligned-dna-sequences.fasta\n",
      "\n",
      "mock-14 complete\n",
      "Running external command line application(s). This may print messages to stdout and/or stderr.\n",
      "The command(s) being run are below. These commands cannot be manually re-run as they will depend on temporary files that no longer exist.\n",
      "\n",
      "Command: run_dada_single.R /tmp/qiime2-archive-cauexa06/2a98aea1-11d8-4ac6-8460-cffccd830dc6/data /tmp/tmplayqqfgy/output.tsv.biom /tmp/tmplayqqfgy/track.tsv /tmp/tmplayqqfgy 250 0 2.0 2 Inf independent consensus 1.0 1 1000000 NULL 16\n",
      "\n"
     ]
    },
    {
     "name": "stderr",
     "output_type": "stream",
     "text": [
      "/home/dylan/miniconda3/envs/qiime2-2020.8/lib/python3.6/site-packages/q2_feature_table/_summarize/_visualizer.py:122: FutureWarning: The signature of `Series.to_csv` was aligned to that of `DataFrame.to_csv`, and argument 'header' will change its default value from False to True: please pass an explicit value to suppress this warning.\n",
      "  os.path.join(output_dir, 'sample-frequency-detail.csv'))\n",
      "/home/dylan/miniconda3/envs/qiime2-2020.8/lib/python3.6/site-packages/q2_feature_table/_summarize/_visualizer.py:124: FutureWarning: The signature of `Series.to_csv` was aligned to that of `DataFrame.to_csv`, and argument 'header' will change its default value from False to True: please pass an explicit value to suppress this warning.\n",
      "  os.path.join(output_dir, 'feature-frequency-detail.csv'))\n"
     ]
    },
    {
     "name": "stdout",
     "output_type": "stream",
     "text": [
      "Running external command line application. This may print messages to stdout and/or stderr.\n",
      "The command being run is below. This command cannot be manually re-run as it will depend on temporary files that no longer exist.\n",
      "\n",
      "Command: mafft --preservecase --inputorder --thread 1 /tmp/qiime2-archive-3oxn5wpr/30e357d1-ee5d-41f2-ab7a-b98f0018a3c3/data/dna-sequences.fasta\n",
      "\n",
      "Running external command line application. This may print messages to stdout and/or stderr.\n",
      "The command being run is below. This command cannot be manually re-run as it will depend on temporary files that no longer exist.\n",
      "\n",
      "Command: FastTree -quote -nt /tmp/qiime2-archive-4yk6ec_v/0bfb76f3-cbcd-4b4c-b6a4-98374641368c/data/aligned-dna-sequences.fasta\n",
      "\n",
      "mock-15 complete\n",
      "Running external command line application(s). This may print messages to stdout and/or stderr.\n",
      "The command(s) being run are below. These commands cannot be manually re-run as they will depend on temporary files that no longer exist.\n",
      "\n",
      "Command: run_dada_single.R /tmp/qiime2-archive-hdar8wfo/f931f39d-b405-4806-8cd9-cc369dc6bb83/data /tmp/tmp85eog1vb/output.tsv.biom /tmp/tmp85eog1vb/track.tsv /tmp/tmp85eog1vb 231 19 2.0 2 Inf independent consensus 1.0 1 1000000 NULL 16\n",
      "\n"
     ]
    },
    {
     "name": "stderr",
     "output_type": "stream",
     "text": [
      "/home/dylan/miniconda3/envs/qiime2-2020.8/lib/python3.6/site-packages/q2_feature_table/_summarize/_visualizer.py:122: FutureWarning: The signature of `Series.to_csv` was aligned to that of `DataFrame.to_csv`, and argument 'header' will change its default value from False to True: please pass an explicit value to suppress this warning.\n",
      "  os.path.join(output_dir, 'sample-frequency-detail.csv'))\n",
      "/home/dylan/miniconda3/envs/qiime2-2020.8/lib/python3.6/site-packages/q2_feature_table/_summarize/_visualizer.py:124: FutureWarning: The signature of `Series.to_csv` was aligned to that of `DataFrame.to_csv`, and argument 'header' will change its default value from False to True: please pass an explicit value to suppress this warning.\n",
      "  os.path.join(output_dir, 'feature-frequency-detail.csv'))\n"
     ]
    },
    {
     "name": "stdout",
     "output_type": "stream",
     "text": [
      "mock-16 complete\n",
      "Running external command line application(s). This may print messages to stdout and/or stderr.\n",
      "The command(s) being run are below. These commands cannot be manually re-run as they will depend on temporary files that no longer exist.\n",
      "\n",
      "Command: run_dada_single.R /tmp/qiime2-archive-g8p_rt26/02ee3cb7-85c5-4ee9-ba9e-e9f60444a8cd/data /tmp/tmp5b2kihzb/output.tsv.biom /tmp/tmp5b2kihzb/track.tsv /tmp/tmp5b2kihzb 231 19 2.0 2 Inf independent consensus 1.0 1 1000000 NULL 16\n",
      "\n"
     ]
    },
    {
     "name": "stderr",
     "output_type": "stream",
     "text": [
      "/home/dylan/miniconda3/envs/qiime2-2020.8/lib/python3.6/site-packages/q2_feature_table/_summarize/_visualizer.py:122: FutureWarning: The signature of `Series.to_csv` was aligned to that of `DataFrame.to_csv`, and argument 'header' will change its default value from False to True: please pass an explicit value to suppress this warning.\n",
      "  os.path.join(output_dir, 'sample-frequency-detail.csv'))\n",
      "/home/dylan/miniconda3/envs/qiime2-2020.8/lib/python3.6/site-packages/q2_feature_table/_summarize/_visualizer.py:124: FutureWarning: The signature of `Series.to_csv` was aligned to that of `DataFrame.to_csv`, and argument 'header' will change its default value from False to True: please pass an explicit value to suppress this warning.\n",
      "  os.path.join(output_dir, 'feature-frequency-detail.csv'))\n"
     ]
    },
    {
     "name": "stdout",
     "output_type": "stream",
     "text": [
      "mock-18 complete\n",
      "Running external command line application(s). This may print messages to stdout and/or stderr.\n",
      "The command(s) being run are below. These commands cannot be manually re-run as they will depend on temporary files that no longer exist.\n",
      "\n",
      "Command: run_dada_single.R /tmp/qiime2-archive-x218sgl_/722345d9-3abe-46e1-982f-1f8a66b65a3d/data /tmp/tmpogvhc2zb/output.tsv.biom /tmp/tmpogvhc2zb/track.tsv /tmp/tmpogvhc2zb 231 19 2.0 2 Inf independent consensus 1.0 1 1000000 NULL 16\n",
      "\n"
     ]
    },
    {
     "name": "stderr",
     "output_type": "stream",
     "text": [
      "/home/dylan/miniconda3/envs/qiime2-2020.8/lib/python3.6/site-packages/q2_feature_table/_summarize/_visualizer.py:122: FutureWarning: The signature of `Series.to_csv` was aligned to that of `DataFrame.to_csv`, and argument 'header' will change its default value from False to True: please pass an explicit value to suppress this warning.\n",
      "  os.path.join(output_dir, 'sample-frequency-detail.csv'))\n",
      "/home/dylan/miniconda3/envs/qiime2-2020.8/lib/python3.6/site-packages/q2_feature_table/_summarize/_visualizer.py:124: FutureWarning: The signature of `Series.to_csv` was aligned to that of `DataFrame.to_csv`, and argument 'header' will change its default value from False to True: please pass an explicit value to suppress this warning.\n",
      "  os.path.join(output_dir, 'feature-frequency-detail.csv'))\n"
     ]
    },
    {
     "name": "stdout",
     "output_type": "stream",
     "text": [
      "mock-19 complete\n",
      "Running external command line application(s). This may print messages to stdout and/or stderr.\n",
      "The command(s) being run are below. These commands cannot be manually re-run as they will depend on temporary files that no longer exist.\n",
      "\n",
      "Command: run_dada_single.R /tmp/qiime2-archive-nl4re43s/b9a1fcb2-6872-4a65-a0ee-eaaf243afc55/data /tmp/tmpul7mdwly/output.tsv.biom /tmp/tmpul7mdwly/track.tsv /tmp/tmpul7mdwly 250 0 2.0 2 Inf independent consensus 1.0 1 1000000 NULL 16\n",
      "\n"
     ]
    },
    {
     "name": "stderr",
     "output_type": "stream",
     "text": [
      "/home/dylan/miniconda3/envs/qiime2-2020.8/lib/python3.6/site-packages/q2_feature_table/_summarize/_visualizer.py:122: FutureWarning: The signature of `Series.to_csv` was aligned to that of `DataFrame.to_csv`, and argument 'header' will change its default value from False to True: please pass an explicit value to suppress this warning.\n",
      "  os.path.join(output_dir, 'sample-frequency-detail.csv'))\n",
      "/home/dylan/miniconda3/envs/qiime2-2020.8/lib/python3.6/site-packages/q2_feature_table/_summarize/_visualizer.py:124: FutureWarning: The signature of `Series.to_csv` was aligned to that of `DataFrame.to_csv`, and argument 'header' will change its default value from False to True: please pass an explicit value to suppress this warning.\n",
      "  os.path.join(output_dir, 'feature-frequency-detail.csv'))\n"
     ]
    },
    {
     "name": "stdout",
     "output_type": "stream",
     "text": [
      "mock-20 complete\n",
      "Running external command line application(s). This may print messages to stdout and/or stderr.\n",
      "The command(s) being run are below. These commands cannot be manually re-run as they will depend on temporary files that no longer exist.\n",
      "\n",
      "Command: run_dada_single.R /tmp/qiime2-archive-fcexd7o4/f1eba1ae-5c7c-41e3-a530-9cbf6e7b6af0/data /tmp/tmp6h3usxyl/output.tsv.biom /tmp/tmp6h3usxyl/track.tsv /tmp/tmp6h3usxyl 250 0 2.0 2 Inf independent consensus 1.0 1 1000000 NULL 16\n",
      "\n"
     ]
    },
    {
     "name": "stderr",
     "output_type": "stream",
     "text": [
      "/home/dylan/miniconda3/envs/qiime2-2020.8/lib/python3.6/site-packages/q2_feature_table/_summarize/_visualizer.py:122: FutureWarning: The signature of `Series.to_csv` was aligned to that of `DataFrame.to_csv`, and argument 'header' will change its default value from False to True: please pass an explicit value to suppress this warning.\n",
      "  os.path.join(output_dir, 'sample-frequency-detail.csv'))\n",
      "/home/dylan/miniconda3/envs/qiime2-2020.8/lib/python3.6/site-packages/q2_feature_table/_summarize/_visualizer.py:124: FutureWarning: The signature of `Series.to_csv` was aligned to that of `DataFrame.to_csv`, and argument 'header' will change its default value from False to True: please pass an explicit value to suppress this warning.\n",
      "  os.path.join(output_dir, 'feature-frequency-detail.csv'))\n"
     ]
    },
    {
     "name": "stdout",
     "output_type": "stream",
     "text": [
      "mock-21 complete\n",
      "Running external command line application(s). This may print messages to stdout and/or stderr.\n",
      "The command(s) being run are below. These commands cannot be manually re-run as they will depend on temporary files that no longer exist.\n",
      "\n",
      "Command: run_dada_single.R /tmp/qiime2-archive-4c1hjkq3/c7d22e53-e4fa-47e6-b4a9-4d1fd489c476/data /tmp/tmptkcxhazj/output.tsv.biom /tmp/tmptkcxhazj/track.tsv /tmp/tmptkcxhazj 250 19 2.0 2 Inf independent consensus 1.0 1 1000000 NULL 16\n",
      "\n",
      "mock-22 complete\n"
     ]
    },
    {
     "name": "stderr",
     "output_type": "stream",
     "text": [
      "/home/dylan/miniconda3/envs/qiime2-2020.8/lib/python3.6/site-packages/q2_feature_table/_summarize/_visualizer.py:122: FutureWarning: The signature of `Series.to_csv` was aligned to that of `DataFrame.to_csv`, and argument 'header' will change its default value from False to True: please pass an explicit value to suppress this warning.\n",
      "  os.path.join(output_dir, 'sample-frequency-detail.csv'))\n",
      "/home/dylan/miniconda3/envs/qiime2-2020.8/lib/python3.6/site-packages/q2_feature_table/_summarize/_visualizer.py:124: FutureWarning: The signature of `Series.to_csv` was aligned to that of `DataFrame.to_csv`, and argument 'header' will change its default value from False to True: please pass an explicit value to suppress this warning.\n",
      "  os.path.join(output_dir, 'feature-frequency-detail.csv'))\n"
     ]
    }
   ],
   "source": [
    "#this command may take hours\n",
    "denoise_to_phylogeny(communities, mock_data_dir, trim_params)"
   ]
  },
  {
   "cell_type": "markdown",
   "metadata": {},
   "source": [
    "To view the ``feature_table_summary.qzv`` summaries you just created, drag and drop the files into [q2view](https://view.qiime2.org/)"
   ]
  },
  {
   "cell_type": "markdown",
   "metadata": {},
   "source": [
    "## Extract results and move to repo"
   ]
  },
  {
   "cell_type": "code",
   "execution_count": 15,
   "metadata": {},
   "outputs": [],
   "source": [
    "transport_to_repo(communities, mock_data_dir, repo_dir)"
   ]
  },
  {
   "cell_type": "code",
   "execution_count": null,
   "metadata": {},
   "outputs": [],
   "source": []
  }
 ],
 "metadata": {
  "anaconda-cloud": {},
  "kernelspec": {
   "display_name": "Python 3",
   "language": "python",
   "name": "python3"
  },
  "language_info": {
   "codemirror_mode": {
    "name": "ipython",
    "version": 3
   },
   "file_extension": ".py",
   "mimetype": "text/x-python",
   "name": "python",
   "nbconvert_exporter": "python",
   "pygments_lexer": "ipython3",
   "version": "3.6.10"
  }
 },
 "nbformat": 4,
 "nbformat_minor": 1
}
