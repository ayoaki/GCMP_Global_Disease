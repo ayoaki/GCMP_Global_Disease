{
 "cells": [
  {
   "cell_type": "markdown",
   "metadata": {},
   "source": [
    "## Classify Taxonomy with vsearch\n",
    "\n",
    "In this notebook we will run vsearch on each tissue compartment using the four references we've\n",
    "created, and save the classification taxonomies to /output/"
   ]
  },
  {
   "cell_type": "code",
   "execution_count": 10,
   "metadata": {},
   "outputs": [],
   "source": [
    "from qiime2 import Artifact\n",
    "from qiime2.plugins.feature_classifier.methods import classify_consensus_vsearch\n",
    "from qiime2.metadata import Metadata\n",
    "from os.path import abspath,exists"
   ]
  },
  {
   "cell_type": "code",
   "execution_count": 14,
   "metadata": {},
   "outputs": [],
   "source": [
    "working_dir = abspath('../')\n",
    "metadata_path = working_dir + '/input/GCMP_EMP_map_r28_no_empty_samples.txt'\n",
    "seqs_path = working_dir + '/output/GCMP_seqs.qza'\n",
    "taxonomy_reference_dir = working_dir + '/output/taxonomy_references/'"
   ]
  },
  {
   "cell_type": "markdown",
   "metadata": {},
   "source": [
    "#### Verify that input files exist at the above paths\n",
    "\n",
    "Let's run a quick check to make sure we have everything we need:"
   ]
  },
  {
   "cell_type": "code",
   "execution_count": 15,
   "metadata": {},
   "outputs": [
    {
     "name": "stdout",
     "output_type": "stream",
     "text": [
      "Verifying that all needed starting data files exist.\n",
      "Done.\n"
     ]
    }
   ],
   "source": [
    "print(\"Verifying that all needed starting data files and directories exist.\")\n",
    "for existing_file in [working_dir,metadata_path,seqs_path,taxonomy_reference_dir]:\n",
    "    if not exists(existing_file):\n",
    "        raise IOError(f\"Required file {existing_file} not found. Please ensure it is in that directory.\")\n",
    "print(\"Done.\")"
   ]
  },
  {
   "cell_type": "markdown",
   "metadata": {},
   "source": [
    "#### Annotate the GCMP sequences\n",
    "\n",
    "Next, we'll use vsearch to annotate taxonomy. This will be run once for each of our different taxonomic schemes:\n",
    "\n",
    "- Greengenes\n",
    "- SILVA\n",
    "- Greengens + MeTaxa2 mitochondrial sequences\n",
    "- SILVA + MeTaxa2 mitochondrial sequences. \n",
    "\n",
    "**NOTE**: This step can take quite a while to run, so we recommend scheduling it for overnight or sometime where you have other things to do (roughly all day on my MacBook Pro using 4 threads)."
   ]
  },
  {
   "cell_type": "code",
   "execution_count": 8,
   "metadata": {},
   "outputs": [],
   "source": [
    "references = ['greengenes', 'silva', 'greengenes_metaxa2', 'silva_metaxa2']\n",
    "metadata = Metadata.load(metadata_path)\n",
    "seqs = Artifact.load(seqs_path)"
   ]
  },
  {
   "cell_type": "code",
   "execution_count": 16,
   "metadata": {},
   "outputs": [
    {
     "name": "stdout",
     "output_type": "stream",
     "text": [
      "Running external command line application. This may print messages to stdout and/or stderr.\n",
      "The command being run is below. This command cannot be manually re-run as it will depend on temporary files that no longer exist.\n",
      "\n",
      "Command: vsearch --usearch_global /var/folders/ph/3tshftys2pn638_ypcxd_w58t0gb61/T/qiime2-archive-1giqcoxg/444b6d5b-e008-4c59-aa36-7c57adf1cdc7/data/dna-sequences.fasta --id 0.8 --query_cov 0.8 --strand both --maxaccepts 10 --maxrejects 0 --db /var/folders/ph/3tshftys2pn638_ypcxd_w58t0gb61/T/qiime2-archive-lnfd6_kt/73cb4a20-a0dd-480b-b64a-7fed6571b7cd/data/dna-sequences.fasta --threads 4 --output_no_hits --blast6out /var/folders/ph/3tshftys2pn638_ypcxd_w58t0gb61/T/tmp_8sa6tvi\n",
      "\n",
      "Running external command line application. This may print messages to stdout and/or stderr.\n",
      "The command being run is below. This command cannot be manually re-run as it will depend on temporary files that no longer exist.\n",
      "\n",
      "Command: vsearch --usearch_global /var/folders/ph/3tshftys2pn638_ypcxd_w58t0gb61/T/qiime2-archive-1giqcoxg/444b6d5b-e008-4c59-aa36-7c57adf1cdc7/data/dna-sequences.fasta --id 0.8 --query_cov 0.8 --strand both --maxaccepts 10 --maxrejects 0 --db /var/folders/ph/3tshftys2pn638_ypcxd_w58t0gb61/T/qiime2-archive-gtp3l4_w/17f16b4d-cf24-484c-bf85-58175faefca9/data/dna-sequences.fasta --threads 4 --output_no_hits --blast6out /var/folders/ph/3tshftys2pn638_ypcxd_w58t0gb61/T/tmp13c8rtqu\n",
      "\n",
      "Running external command line application. This may print messages to stdout and/or stderr.\n",
      "The command being run is below. This command cannot be manually re-run as it will depend on temporary files that no longer exist.\n",
      "\n",
      "Command: vsearch --usearch_global /var/folders/ph/3tshftys2pn638_ypcxd_w58t0gb61/T/qiime2-archive-1giqcoxg/444b6d5b-e008-4c59-aa36-7c57adf1cdc7/data/dna-sequences.fasta --id 0.8 --query_cov 0.8 --strand both --maxaccepts 10 --maxrejects 0 --db /var/folders/ph/3tshftys2pn638_ypcxd_w58t0gb61/T/qiime2-archive-4ew2f0wi/e7353932-c0f4-4f46-bb11-71941d13dbe2/data/dna-sequences.fasta --threads 4 --output_no_hits --blast6out /var/folders/ph/3tshftys2pn638_ypcxd_w58t0gb61/T/tmptht2euap\n",
      "\n",
      "Running external command line application. This may print messages to stdout and/or stderr.\n",
      "The command being run is below. This command cannot be manually re-run as it will depend on temporary files that no longer exist.\n",
      "\n",
      "Command: vsearch --usearch_global /var/folders/ph/3tshftys2pn638_ypcxd_w58t0gb61/T/qiime2-archive-1giqcoxg/444b6d5b-e008-4c59-aa36-7c57adf1cdc7/data/dna-sequences.fasta --id 0.8 --query_cov 0.8 --strand both --maxaccepts 10 --maxrejects 0 --db /var/folders/ph/3tshftys2pn638_ypcxd_w58t0gb61/T/qiime2-archive-rfpqg1ps/c30a0d30-68ce-4142-8e16-4b22c54d54e2/data/dna-sequences.fasta --threads 4 --output_no_hits --blast6out /var/folders/ph/3tshftys2pn638_ypcxd_w58t0gb61/T/tmp4sima0gg\n",
      "\n"
     ]
    }
   ],
   "source": [
    "vsearch_results = {}\n",
    "for reference in references:\n",
    "    reference_otu_path = taxonomy_reference_dir + f'{reference}_otus.qza'\n",
    "    reference_taxonomy_path = taxonomy_reference_dir +  f'{reference}_taxonomy.qza'\n",
    "    reads = Artifact.load(reference_otu_path)\n",
    "    taxonomy = Artifact.load(reference_taxonomy_path)\n",
    "    vsearch_results[reference] = classify_consensus_vsearch(seqs, reads, taxonomy, threads = 4)"
   ]
  },
  {
   "cell_type": "markdown",
   "metadata": {},
   "source": [
    "#### Save each of the resulting taxonomy annotations for the GCMP sequences "
   ]
  },
  {
   "cell_type": "code",
   "execution_count": 18,
   "metadata": {},
   "outputs": [],
   "source": [
    "for reference in vsearch_results:\n",
    "    classification_taxonomy, = vsearch_results[reference]\n",
    "    classification_taxonomy.save(working_dir + '/output/' + str(reference) + '_reference_taxonomy.qza')"
   ]
  }
 ],
 "metadata": {
  "kernelspec": {
   "display_name": "Python 3",
   "language": "python",
   "name": "python3"
  },
  "language_info": {
   "codemirror_mode": {
    "name": "ipython",
    "version": 3
   },
   "file_extension": ".py",
   "mimetype": "text/x-python",
   "name": "python",
   "nbconvert_exporter": "python",
   "pygments_lexer": "ipython3",
   "version": "3.6.10"
  }
 },
 "nbformat": 4,
 "nbformat_minor": 2
}
