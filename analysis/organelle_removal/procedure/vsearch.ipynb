{
 "cells": [
  {
   "cell_type": "code",
   "execution_count": 3,
   "metadata": {},
   "outputs": [],
   "source": [
    "#run vsearch on each tissue compartment using the four references we've\n",
    "#created, and save the classification taxonomies to /output/"
   ]
  },
  {
   "cell_type": "code",
   "execution_count": 17,
   "metadata": {},
   "outputs": [],
   "source": [
    "from qiime2 import Artifact\n",
    "from qiime2.plugins.feature_classifier.methods import classify_consensus_vsearch\n",
    "from qiime2.metadata import Metadata"
   ]
  },
  {
   "cell_type": "code",
   "execution_count": 21,
   "metadata": {},
   "outputs": [],
   "source": [
    "working_dir = '/home/dylan/Documents/june_reset/'\n",
    "metadata_path = working_dir + '/input/GCMP_EMP_map_r28_no_empty_samples.txt'\n",
    "seqs_path = working_dir + '/input/GCMP_seqs.qza'"
   ]
  },
  {
   "cell_type": "code",
   "execution_count": 22,
   "metadata": {},
   "outputs": [],
   "source": [
    "tissue_compartments = ['M', 'T', 'S']\n",
    "references = ['greengenes', 'silva', 'greengenes_metaxa2', 'silva_metaxa2']\n",
    "metadata = Metadata.load(metadata_path)\n",
    "seqs = Artifact.load(seqs_path)"
   ]
  },
  {
   "cell_type": "code",
   "execution_count": 24,
   "metadata": {},
   "outputs": [
    {
     "name": "stdout",
     "output_type": "stream",
     "text": [
      "Running external command line application. This may print messages to stdout and/or stderr.\n",
      "The command being run is below. This command cannot be manually re-run as it will depend on temporary files that no longer exist.\n",
      "\n",
      "Command: vsearch --usearch_global /tmp/qiime2-archive-frpu61sy/7435f907-a539-4b8f-b28e-242b5c2dc19a/data/dna-sequences.fasta --id 0.8 --query_cov 0.8 --strand both --maxaccepts 10 --maxrejects 0 --output_no_hits --db /tmp/qiime2-archive-zgi0owgj/7c8c997f-3906-4d36-9355-e9d4c5214299/data/dna-sequences.fasta --threads 4 --blast6out /tmp/tmp6jjbrtun\n",
      "\n",
      "Running external command line application. This may print messages to stdout and/or stderr.\n",
      "The command being run is below. This command cannot be manually re-run as it will depend on temporary files that no longer exist.\n",
      "\n",
      "Command: vsearch --usearch_global /tmp/qiime2-archive-frpu61sy/7435f907-a539-4b8f-b28e-242b5c2dc19a/data/dna-sequences.fasta --id 0.8 --query_cov 0.8 --strand both --maxaccepts 10 --maxrejects 0 --output_no_hits --db /tmp/qiime2-archive-jix8y_p_/7282ea51-2531-4e61-8f30-cfea73430726/data/dna-sequences.fasta --threads 4 --blast6out /tmp/tmpu_5t2gvi\n",
      "\n",
      "Running external command line application. This may print messages to stdout and/or stderr.\n",
      "The command being run is below. This command cannot be manually re-run as it will depend on temporary files that no longer exist.\n",
      "\n",
      "Command: vsearch --usearch_global /tmp/qiime2-archive-frpu61sy/7435f907-a539-4b8f-b28e-242b5c2dc19a/data/dna-sequences.fasta --id 0.8 --query_cov 0.8 --strand both --maxaccepts 10 --maxrejects 0 --output_no_hits --db /tmp/qiime2-archive-crf4f1og/53b43109-0167-4378-84bb-c392f00daa1f/data/dna-sequences.fasta --threads 4 --blast6out /tmp/tmppe6su3kq\n",
      "\n",
      "Running external command line application. This may print messages to stdout and/or stderr.\n",
      "The command being run is below. This command cannot be manually re-run as it will depend on temporary files that no longer exist.\n",
      "\n",
      "Command: vsearch --usearch_global /tmp/qiime2-archive-frpu61sy/7435f907-a539-4b8f-b28e-242b5c2dc19a/data/dna-sequences.fasta --id 0.8 --query_cov 0.8 --strand both --maxaccepts 10 --maxrejects 0 --output_no_hits --db /tmp/qiime2-archive-7xgkkjgw/d8398af0-29d6-41d4-ab37-79a371d12782/data/dna-sequences.fasta --threads 4 --blast6out /tmp/tmp4gyoum6z\n",
      "\n"
     ]
    }
   ],
   "source": [
    "vsearch_results = {}\n",
    "for reference in references:\n",
    "    reference_otu_path = working_dir + '/input/' + reference + '_otus.qza'\n",
    "    reference_taxonomy_path = working_dir + '/input/' + reference + '_taxonomy.qza'\n",
    "    reads = Artifact.load(reference_otu_path)\n",
    "    taxonomy = Artifact.load(reference_taxonomy_path)\n",
    "    vsearch_results[reference] = classify_consensus_vsearch(seqs, reads, taxonomy, threads = 4)"
   ]
  },
  {
   "cell_type": "code",
   "execution_count": 27,
   "metadata": {},
   "outputs": [],
   "source": [
    "for reference in vsearch_results:\n",
    "    classification_taxonomy, = vsearch_results[reference]\n",
    "    classification_taxonomy.save(working_dir + '/output/' + str(reference) + '_reference_taxonomy.qza')"
   ]
  },
  {
   "cell_type": "code",
   "execution_count": null,
   "metadata": {},
   "outputs": [],
   "source": []
  }
 ],
 "metadata": {
  "kernelspec": {
   "display_name": "Python 3",
   "language": "python",
   "name": "python3"
  },
  "language_info": {
   "codemirror_mode": {
    "name": "ipython",
    "version": 3
   },
   "file_extension": ".py",
   "mimetype": "text/x-python",
   "name": "python",
   "nbconvert_exporter": "python",
   "pygments_lexer": "ipython3",
   "version": "3.6.7"
  }
 },
 "nbformat": 4,
 "nbformat_minor": 2
}
