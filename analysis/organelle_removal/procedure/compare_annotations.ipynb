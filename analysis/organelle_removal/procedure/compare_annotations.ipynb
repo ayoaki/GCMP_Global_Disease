{
 "cells": [
  {
   "cell_type": "code",
   "execution_count": 1,
   "metadata": {},
   "outputs": [],
   "source": [
    "#data wrangling. now that we have the numbers, it's just a matter of\n",
    "#combining them into a useful output"
   ]
  },
  {
   "cell_type": "code",
   "execution_count": 18,
   "metadata": {},
   "outputs": [],
   "source": [
    "import tempfile\n",
    "from qiime2 import Visualization\n",
    "import pandas as pd"
   ]
  },
  {
   "cell_type": "code",
   "execution_count": 10,
   "metadata": {},
   "outputs": [],
   "source": [
    "working_dir = '/home/dylan/Documents/june_reset'"
   ]
  },
  {
   "cell_type": "code",
   "execution_count": 8,
   "metadata": {},
   "outputs": [],
   "source": [
    "compartments = ['M', 'T', 'S']\n",
    "references = ['greengenes', 'silva', 'greengenes_metaxa2',\n",
    "              'silva_metaxa2']"
   ]
  },
  {
   "cell_type": "code",
   "execution_count": 118,
   "metadata": {},
   "outputs": [],
   "source": [
    "proportion_unassigned = []\n",
    "references1 = []\n",
    "compartments1 = []\n",
    "proportion_mitochondria = []\n",
    "references5 = []\n",
    "compartments5 = []\n",
    "for reference in references:\n",
    "    for compartment in compartments:\n",
    "        with tempfile.TemporaryDirectory() as temp_dir:\n",
    "            dataset = compartment + '_' + reference\n",
    "            tbp_path = working_dir + '/output/' + dataset + '_tbp.qzv'\n",
    "            tbp = Visualization.load(tbp_path)\n",
    "            tbp.export_data(temp_dir)\n",
    "            df1 = pd.read_csv(temp_dir + '/level-1.csv')\n",
    "            df1['total'] = df1.sum(axis = 1)\n",
    "            df1['compartment'] = compartment\n",
    "            df1['reference'] = reference\n",
    "            proportion_unassigned.extend(list(df1['Unassigned'] / df1['total']))\n",
    "            references1.extend(list(df1['reference']))\n",
    "            compartments1.extend(df1['compartment'])\n",
    "            df5 = pd.read_csv(temp_dir + '/level-5.csv')\n",
    "            df5['total'] = df5.sum(axis = 1)\n",
    "            df5['compartment'] = compartment\n",
    "            df5['reference'] = reference\n",
    "            if 'greengenes' in reference:\n",
    "                proportion_mitochondria.extend(list(df5['k__Bacteria;p__Proteobacteria;c__Alphaproteobacteria;o__Rickettsiales;f__mitochondria'] / df5['total']))\n",
    "            elif 'silva' in reference:\n",
    "                proportion_mitochondria.extend(list(df5['D_0__Bacteria;D_1__Proteobacteria;D_2__Alphaproteobacteria;D_3__Rickettsiales;D_4__Mitochondria'] / df5['total']))\n",
    "            references5.extend(list(df5['reference']))\n",
    "            compartments5.extend(df5['compartment'])"
   ]
  },
  {
   "cell_type": "code",
   "execution_count": 124,
   "metadata": {},
   "outputs": [],
   "source": [
    "lvl1 = list(zip(proportion_unassigned, references1, compartments1))\n",
    "lvl1_df = pd.DataFrame(lvl1, columns = ['proportion unassigned', 'reference taxonomy', 'tissue compartment'])\n",
    "lvl1_df.to_csv(working_dir + '/output/lvl1.csv')"
   ]
  },
  {
   "cell_type": "code",
   "execution_count": 125,
   "metadata": {},
   "outputs": [],
   "source": [
    "lvl5 = list(zip(proportion_mitochondria, references5, compartments5))\n",
    "lvl5_df = pd.DataFrame(lvl5, columns = ['proportion mitochondria', 'reference taxonomy', 'tissue compartment'])\n",
    "lvl5_df.to_csv(working_dir + '/output/lvl5.csv')"
   ]
  },
  {
   "cell_type": "code",
   "execution_count": null,
   "metadata": {},
   "outputs": [],
   "source": []
  }
 ],
 "metadata": {
  "kernelspec": {
   "display_name": "Python 3",
   "language": "python",
   "name": "python3"
  },
  "language_info": {
   "codemirror_mode": {
    "name": "ipython",
    "version": 3
   },
   "file_extension": ".py",
   "mimetype": "text/x-python",
   "name": "python",
   "nbconvert_exporter": "python",
   "pygments_lexer": "ipython3",
   "version": "3.6.7"
  }
 },
 "nbformat": 4,
 "nbformat_minor": 2
}
