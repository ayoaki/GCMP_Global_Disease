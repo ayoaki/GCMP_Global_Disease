{
 "cells": [
  {
   "cell_type": "markdown",
   "metadata": {},
   "source": [
    "0. Ensure the following GCMP files are in input:  \n",
    "    all.seqs.fa  \n",
    "    all.biom  \n",
    "    GCMP_EMP_map_r28_no_empty_samples.txt \n",
    "0. [Download taxonomy reference files](download_starting_taxonomy_files.ipynb).  \n",
    "0. [Import taxonomies into qiime](create_taxonomy_artifacts.ipynb)  \n",
    "0. [Create filtered feature tables](compartment_split.ipynb)  \n",
    "0. [Run the vsearch plugin](vsearch.ipynb)  \n",
    "0. [Create taxa barplots](create_barplots.ipynb)  \n",
    "0. [Calculate proportions](compare_annotations.ipynb)  \n",
    "0. [Make proportion plots](make_plots.ipynb)  \n",
    "0. [Clean mockrobiota data with tax-credit](dataset-generation.ipynb)  \n",
    "0. [Compare accuracy on mock communities](compare_accuracy_greengenes.ipynb)  \n",
    "    #still need to write and merge silva workflow"
   ]
  },
  {
   "cell_type": "code",
   "execution_count": null,
   "metadata": {},
   "outputs": [],
   "source": []
  }
 ],
 "metadata": {
  "kernelspec": {
   "display_name": "Python 3",
   "language": "python",
   "name": "python3"
  },
  "language_info": {
   "codemirror_mode": {
    "name": "ipython",
    "version": 3
   },
   "file_extension": ".py",
   "mimetype": "text/x-python",
   "name": "python",
   "nbconvert_exporter": "python",
   "pygments_lexer": "ipython3",
   "version": "3.6.10"
  }
 },
 "nbformat": 4,
 "nbformat_minor": 2
}
