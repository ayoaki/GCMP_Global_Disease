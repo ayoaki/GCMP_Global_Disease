{
 "cells": [
  {
   "cell_type": "code",
   "execution_count": 1,
   "metadata": {},
   "outputs": [],
   "source": [
    "#using the classification taxonomies, create taxa bar plots for each\n",
    "#tissue compartment"
   ]
  },
  {
   "cell_type": "code",
   "execution_count": 10,
   "metadata": {},
   "outputs": [],
   "source": [
    "from qiime2 import Artifact\n",
    "from qiime2.metadata import Metadata\n",
    "from qiime2.plugins.taxa.visualizers import barplot\n",
    "import pandas as pd"
   ]
  },
  {
   "cell_type": "code",
   "execution_count": 6,
   "metadata": {},
   "outputs": [],
   "source": [
    "working_dir = '/home/dylan/Documents/june_reset'"
   ]
  },
  {
   "cell_type": "code",
   "execution_count": 20,
   "metadata": {},
   "outputs": [],
   "source": [
    "compartments = ['M', 'T', 'S']\n",
    "references = ['greengenes', 'silva', 'greengenes_metaxa2', 'silva_metaxa2']"
   ]
  },
  {
   "cell_type": "code",
   "execution_count": 11,
   "metadata": {
    "collapsed": true
   },
   "outputs": [
    {
     "data": {
      "text/html": [
       "<div>\n",
       "<style scoped>\n",
       "    .dataframe tbody tr th:only-of-type {\n",
       "        vertical-align: middle;\n",
       "    }\n",
       "\n",
       "    .dataframe tbody tr th {\n",
       "        vertical-align: top;\n",
       "    }\n",
       "\n",
       "    .dataframe thead th {\n",
       "        text-align: right;\n",
       "    }\n",
       "</style>\n",
       "<table border=\"1\" class=\"dataframe\">\n",
       "  <thead>\n",
       "    <tr style=\"text-align: right;\">\n",
       "      <th></th>\n",
       "    </tr>\n",
       "    <tr>\n",
       "      <th>#SampleID</th>\n",
       "    </tr>\n",
       "  </thead>\n",
       "  <tbody>\n",
       "    <tr>\n",
       "      <th>10895.BLANK.1.5A</th>\n",
       "    </tr>\n",
       "    <tr>\n",
       "      <th>10895.BLANK.10.A7</th>\n",
       "    </tr>\n",
       "    <tr>\n",
       "      <th>10895.BLANK.10.A8</th>\n",
       "    </tr>\n",
       "    <tr>\n",
       "      <th>10895.BLANK.10.B7</th>\n",
       "    </tr>\n",
       "    <tr>\n",
       "      <th>10895.BLANK.10.B8</th>\n",
       "    </tr>\n",
       "    <tr>\n",
       "      <th>...</th>\n",
       "    </tr>\n",
       "    <tr>\n",
       "      <th>10895.E9.Out.Sti.giga.1.20150823.M</th>\n",
       "    </tr>\n",
       "    <tr>\n",
       "      <th>10895.E9.Sediment.1.20150817</th>\n",
       "    </tr>\n",
       "    <tr>\n",
       "      <th>10895.E9.Sediment.1.20150818</th>\n",
       "    </tr>\n",
       "    <tr>\n",
       "      <th>10895.E9.Sediment.1.20150823</th>\n",
       "    </tr>\n",
       "    <tr>\n",
       "      <th>10895.unknown.1</th>\n",
       "    </tr>\n",
       "  </tbody>\n",
       "</table>\n",
       "<p>1438 rows × 0 columns</p>\n",
       "</div>"
      ],
      "text/plain": [
       "Empty DataFrame\n",
       "Columns: []\n",
       "Index: [10895.BLANK.1.5A, 10895.BLANK.10.A7, 10895.BLANK.10.A8, 10895.BLANK.10.B7, 10895.BLANK.10.B8, 10895.BLANK.10.C7, 10895.BLANK.10.C8, 10895.BLANK.10.D7, 10895.BLANK.10.D8, 10895.BLANK.10.E7, 10895.BLANK.10.E8, 10895.BLANK.10.F10, 10895.BLANK.10.F7, 10895.BLANK.10.F8, 10895.BLANK.10.G10, 10895.BLANK.10.G7, 10895.BLANK.10.G8, 10895.BLANK.10.H10, 10895.BLANK.10.H7, 10895.BLANK.10.H8, 10895.BLANK.11.E8, 10895.BLANK.11.F8, 10895.BLANK.11.G8, 10895.BLANK.11.H8, 10895.BLANK.12.G6, 10895.BLANK.12.H6, 10895.BLANK.13.C9, 10895.BLANK.13.D9, 10895.BLANK.13.E9, 10895.BLANK.13.F9, 10895.BLANK.13.G9, 10895.BLANK.13.H9, 10895.BLANK.14.A8, 10895.BLANK.14.B8, 10895.BLANK.14.C8, 10895.BLANK.14.D8, 10895.BLANK.14.E8, 10895.BLANK.14.F8, 10895.BLANK.14.G8, 10895.BLANK.15.A12, 10895.BLANK.15.A5, 10895.BLANK.15.B12, 10895.BLANK.15.B5, 10895.BLANK.15.C12, 10895.BLANK.15.C5, 10895.BLANK.15.D12, 10895.BLANK.15.D5, 10895.BLANK.15.E12, 10895.BLANK.15.E5, 10895.BLANK.15.F5, 10895.BLANK.2.11, 10895.BLANK.2.11D, 10895.BLANK.2.11E, 10895.BLANK.2.11F, 10895.BLANK.2.11G, 10895.BLANK.2.1H, 10895.BLANK.3.10E, 10895.BLANK.3.10F, 10895.BLANK.3.10G, 10895.BLANK.3.10H, 10895.BLANK.4.6E, 10895.BLANK.4.6F, 10895.BLANK.4.6G, 10895.BLANK.4.6H, 10895.BLANK.5.4F, 10895.BLANK.5.4G, 10895.BLANK.5.4H, 10895.BLANK.6.2B, 10895.BLANK.6.2C, 10895.BLANK.6.2D, 10895.BLANK.6.2E, 10895.BLANK.6.2F, 10895.BLANK.6.2G, 10895.BLANK.6.2H, 10895.BLANK.6.4D, 10895.BLANK.6.4E, 10895.BLANK.6.4F, 10895.BLANK.6.4G, 10895.BLANK.6.4H, 10895.BLANK.6.G9, 10895.BLANK.7.A12, 10895.BLANK.7.B12, 10895.BLANK.7.C12, 10895.BLANK.7.D12, 10895.BLANK.7.E12, 10895.BLANK.7.F12, 10895.BLANK.7.G12, 10895.BLANK.7.H12, 10895.BLANK.7.H4, 10895.BLANK.8.A11, 10895.BLANK.8.B11, 10895.BLANK.8.C11, 10895.BLANK.8.D11, 10895.BLANK.8.E11, 10895.BLANK.8.F11, 10895.BLANK.8.G11, 10895.BLANK.8.H11, 10895.BLANK.9.D10, 10895.BLANK.9.E10, 10895.BLANK.9.F10, ...]\n",
       "\n",
       "[1438 rows x 0 columns]"
      ]
     },
     "execution_count": 11,
     "metadata": {},
     "output_type": "execute_result"
    }
   ],
   "source": [
    "#we don't actually care about the information in the metadata, so we\n",
    "#strip everything but the index. Otherwise the metadata gets appended\n",
    "#to the csvs\n",
    "metadata_path = working_dir + '/input/GCMP_EMP_map_r28_no_empty_samples.txt'\n",
    "metadata = Metadata.load(metadata_path)\n",
    "metadata_df = metadata.to_dataframe()\n",
    "metadata_df = pd.DataFrame(index=metadata_df.index)\n",
    "metadata = Metadata(metadata_df)"
   ]
  },
  {
   "cell_type": "code",
   "execution_count": 21,
   "metadata": {},
   "outputs": [],
   "source": [
    "for reference in references:\n",
    "    taxonomy_path = working_dir + '/output/' + reference + '_reference_taxonomy.qza'\n",
    "    taxonomy = Artifact.load(taxonomy_path)\n",
    "    for compartment in compartments:\n",
    "        ft_path = working_dir + '/input/' + compartment + '_ft.qza'\n",
    "        ft = Artifact.load(ft_path)\n",
    "        tbp, = barplot(ft, taxonomy, metadata)\n",
    "        save_path = working_dir + '/output/' + compartment + '_' + reference + '_tbp.qzv'\n",
    "        tbp.save(save_path)"
   ]
  },
  {
   "cell_type": "code",
   "execution_count": null,
   "metadata": {},
   "outputs": [],
   "source": []
  }
 ],
 "metadata": {
  "kernelspec": {
   "display_name": "Python 3",
   "language": "python",
   "name": "python3"
  },
  "language_info": {
   "codemirror_mode": {
    "name": "ipython",
    "version": 3
   },
   "file_extension": ".py",
   "mimetype": "text/x-python",
   "name": "python",
   "nbconvert_exporter": "python",
   "pygments_lexer": "ipython3",
   "version": "3.6.7"
  }
 },
 "nbformat": 4,
 "nbformat_minor": 2
}
