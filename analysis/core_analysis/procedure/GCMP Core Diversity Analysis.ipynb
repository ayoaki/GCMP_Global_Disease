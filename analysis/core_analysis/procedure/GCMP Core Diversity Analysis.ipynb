{
 "cells": [
  {
   "cell_type": "markdown",
   "metadata": {},
   "source": [
    "## Core Diversity Analyses of the GCMP dataset\n",
    "\n",
    "This notebook will perform basic QIIME2 analysis of the GCMP dataset. The goal is not to produce interesting analytical products at this time, but rather to calculate basic diversity parameters that can be used in downstream phylogenetic comparisons. "
   ]
  },
  {
   "cell_type": "code",
   "execution_count": 5,
   "metadata": {},
   "outputs": [],
   "source": [
    "from qiime2 import Artifact\n",
    "from qiime2.plugins.feature_table.methods import filter_samples\n",
    "from qiime2.plugins.taxa.methods import filter_table\n",
    "#The below try/except block is unsightly but the alpha function got moved between recent versions of QIIME2\n",
    "#and it's nice if the notebook is compatible with either\n",
    "try:\n",
    "    from qiime2.plugins.diversity.methods import alpha\n",
    "except:\n",
    "    from qiime2.plugins.diversity.pipelines import alpha\n",
    "from qiime2.plugins.diversity.visualizers import alpha_group_significance\n",
    "\n",
    "from qiime2.plugins.feature_table.methods import rarefy\n",
    "from qiime2.plugins.feature_table.visualizers import summarize\n",
    "\n",
    "from qiime2.metadata import Metadata\n",
    "from os.path import abspath,exists,join\n",
    "import shutil"
   ]
  },
  {
   "cell_type": "code",
   "execution_count": 6,
   "metadata": {},
   "outputs": [],
   "source": [
    "#### Check that required files exist\n",
    "mucus_feature_table = \"../../organelle_removal/output/M_ft.qza\"\n",
    "tissue_feature_table = \"../../organelle_removal/output/T_ft.qza\"\n",
    "skeleton_feature_table = \"../../organelle_removal/output/S_ft.qza\"\n",
    "mapping_file = \"../../organelle_removal/input/GCMP_EMP_map_r28_no_empty_samples.txt\"\n",
    "taxonomy_file = \"../../organelle_removal/output/silva_metaxa2_reference_taxonomy.qza\"\n",
    "sequence_file = \"../../organelle_removal/output/GCMP_seqs.qza\"\n",
    "output_dir = abspath(\"../output/\")\n",
    "input_directory = abspath(\"../input\")\n",
    "\n",
    "required_files = [mucus_feature_table,tissue_feature_table,skeleton_feature_table,mapping_file,taxonomy_file,sequence_file]\n",
    "\n"
   ]
  },
  {
   "cell_type": "markdown",
   "metadata": {},
   "source": [
    "#### Check that all required files really exist and are named correctly"
   ]
  },
  {
   "cell_type": "code",
   "execution_count": 7,
   "metadata": {},
   "outputs": [
    {
     "name": "stdout",
     "output_type": "stream",
     "text": [
      "Verifying that all needed starting data files exist.\n",
      "Done.\n"
     ]
    }
   ],
   "source": [
    "print(\"Verifying that all needed starting data files exist.\")\n",
    "for existing_file in required_files:\n",
    "    if not exists(existing_file):\n",
    "        raise IOError(f\"Required file {existing_file} not found. Please ensure it is in that directory.\")\n",
    "print(\"Done.\")"
   ]
  },
  {
   "cell_type": "markdown",
   "metadata": {},
   "source": [
    "#### Copy input files to input folder\n",
    "\n",
    "Move all needed files to the input folder"
   ]
  },
  {
   "cell_type": "code",
   "execution_count": 72,
   "metadata": {},
   "outputs": [],
   "source": [
    "mucus_feature_table = shutil.copy(mucus_feature_table,input_directory)\n",
    "tissue_feature_table = shutil.copy(tissue_feature_table,input_directory)\n",
    "skeleton_feature_table = shutil.copy(skeleton_feature_table,input_directory)\n",
    "taxonomy_file = shutil.copy(taxonomy_file,input_directory)\n",
    "mapping_file = shutil.copy(mapping_file,input_directory)"
   ]
  },
  {
   "cell_type": "markdown",
   "metadata": {},
   "source": [
    "#### Filter the feature tables to remove mitochondria and chloroplasts"
   ]
  },
  {
   "cell_type": "code",
   "execution_count": 2,
   "metadata": {},
   "outputs": [
    {
     "ename": "NameError",
     "evalue": "name 'Metadata' is not defined",
     "output_type": "error",
     "traceback": [
      "\u001b[0;31m---------------------------------------------------------------------------\u001b[0m",
      "\u001b[0;31mNameError\u001b[0m                                 Traceback (most recent call last)",
      "\u001b[0;32m<ipython-input-2-6335956f3e51>\u001b[0m in \u001b[0;36m<module>\u001b[0;34m\u001b[0m\n\u001b[1;32m      1\u001b[0m \u001b[0;32mfrom\u001b[0m \u001b[0mqiime2\u001b[0m\u001b[0;34m.\u001b[0m\u001b[0mplugins\u001b[0m\u001b[0;34m.\u001b[0m\u001b[0mfeature_table\u001b[0m\u001b[0;34m.\u001b[0m\u001b[0mmethods\u001b[0m \u001b[0;32mimport\u001b[0m \u001b[0mfilter_features\u001b[0m\u001b[0;34m\u001b[0m\u001b[0;34m\u001b[0m\u001b[0m\n\u001b[1;32m      2\u001b[0m \u001b[0;34m\u001b[0m\u001b[0m\n\u001b[0;32m----> 3\u001b[0;31m \u001b[0mmetadata\u001b[0m \u001b[0;34m=\u001b[0m \u001b[0mMetadata\u001b[0m\u001b[0;34m.\u001b[0m\u001b[0mload\u001b[0m\u001b[0;34m(\u001b[0m\u001b[0mmapping_file\u001b[0m\u001b[0;34m)\u001b[0m\u001b[0;34m\u001b[0m\u001b[0;34m\u001b[0m\u001b[0m\n\u001b[0m\u001b[1;32m      4\u001b[0m \u001b[0mseqs\u001b[0m \u001b[0;34m=\u001b[0m \u001b[0mArtifact\u001b[0m\u001b[0;34m.\u001b[0m\u001b[0mload\u001b[0m\u001b[0;34m(\u001b[0m\u001b[0msequence_file\u001b[0m\u001b[0;34m)\u001b[0m\u001b[0;34m\u001b[0m\u001b[0;34m\u001b[0m\u001b[0m\n\u001b[1;32m      5\u001b[0m \u001b[0mmucus_features\u001b[0m \u001b[0;34m=\u001b[0m \u001b[0mArtifact\u001b[0m\u001b[0;34m.\u001b[0m\u001b[0mload\u001b[0m\u001b[0;34m(\u001b[0m\u001b[0mmucus_feature_table\u001b[0m\u001b[0;34m)\u001b[0m\u001b[0;34m\u001b[0m\u001b[0;34m\u001b[0m\u001b[0m\n",
      "\u001b[0;31mNameError\u001b[0m: name 'Metadata' is not defined"
     ]
    }
   ],
   "source": [
    "from qiime2.plugins.feature_table.methods import filter_features\n",
    "\n",
    "metadata = Metadata.load(mapping_file)\n",
    "seqs = Artifact.load(sequence_file)\n",
    "mucus_features = Artifact.load(mucus_feature_table)\n",
    "tissue_features = Artifact.load(tissue_feature_table)\n",
    "skeleton_features = Artifact.load(skeleton_feature_table)\n",
    "\n",
    "feature_tables = {\"mucus\":mucus_features,\"tissue\": tissue_features,\"skeleton\":skeleton_features}\n",
    "\n",
    "taxonomy = Artifact.load(taxonomy_file)"
   ]
  },
  {
   "cell_type": "markdown",
   "metadata": {},
   "source": [
    "#### Filter the feature tables to exclude mitochondria and chloroplasts\n",
    "\n",
    "Note that it is critical to use the taxonomies supplemented with MeTaxa2 chloroplasts (from the organelle removal step) to avoid high numbers of misannotated mitochondria (typically showing up as 'Unclassified bacteria')"
   ]
  },
  {
   "cell_type": "code",
   "execution_count": 59,
   "metadata": {},
   "outputs": [
    {
     "name": "stdout",
     "output_type": "stream",
     "text": [
      "Removing mitochondria from: mucus <artifact: FeatureTable[Frequency] uuid: 8045253c-8a06-4ba5-9188-36ae7ca39531>\n",
      "Saving results to:/Users/jzaneveld/Dropbox/Zaneveld_Lab_Organization/Projects/GCMP_Global_Disease/gcmp_global_disease/analysis/core_analysis/output/feature_table_mucus.qza\n",
      "Removing mitochondria from: tissue <artifact: FeatureTable[Frequency] uuid: 14e5fea4-6aee-4dec-9065-33a307fb3140>\n",
      "Saving results to:/Users/jzaneveld/Dropbox/Zaneveld_Lab_Organization/Projects/GCMP_Global_Disease/gcmp_global_disease/analysis/core_analysis/output/feature_table_tissue.qza\n",
      "Removing mitochondria from: skeleton <artifact: FeatureTable[Frequency] uuid: f7e6592c-affd-418c-aaf3-876a1294691e>\n",
      "Saving results to:/Users/jzaneveld/Dropbox/Zaneveld_Lab_Organization/Projects/GCMP_Global_Disease/gcmp_global_disease/analysis/core_analysis/output/feature_table_skeleton.qza\n"
     ]
    }
   ],
   "source": [
    "filtered_feature_tables = {}\n",
    "for compartment,table in feature_tables.items():\n",
    "    print(\"Removing mitochondria from:\", compartment,table)\n",
    "    #NOTE: the QIIME2 api does NOT return a single object (as I thought based on the  documentation, but a NamedTuple\n",
    "    #structure with each output in it)\n",
    "    filter_table_results = filter_table(table,taxonomy,exclude=\"mitochondria,chloroplast\",mode=\"contains\")\n",
    "    filtered_table = filter_table_results.filtered_table\n",
    "    filtered_feature_tables[compartment]=filtered_table\n",
    "    \n",
    "    #Save the resulting feature table to disk\n",
    "    output_filename = f\"feature_table_{compartment}.qza\"\n",
    "    output_filepath = join(output_dir,output_filename)\n",
    "    print(f\"Saving results to:{output_filepath}\")\n",
    "    filtered_table.save(output_filepath)\n",
    "\n",
    "\n",
    "    \n",
    "    "
   ]
  },
  {
   "cell_type": "markdown",
   "metadata": {},
   "source": [
    "#### Output Summaries of the filtered feature tables\n",
    "\n",
    "Note that this will produce some warnings (regarding headers in the .csv files), but these are safe to ignore. "
   ]
  },
  {
   "cell_type": "code",
   "execution_count": 66,
   "metadata": {},
   "outputs": [
    {
     "name": "stderr",
     "output_type": "stream",
     "text": [
      "/Users/jzaneveld/anaconda3/envs/qiime2-2020.6/lib/python3.6/site-packages/q2_feature_table/_summarize/_visualizer.py:122: FutureWarning: The signature of `Series.to_csv` was aligned to that of `DataFrame.to_csv`, and argument 'header' will change its default value from False to True: please pass an explicit value to suppress this warning.\n",
      "  os.path.join(output_dir, 'sample-frequency-detail.csv'))\n",
      "/Users/jzaneveld/anaconda3/envs/qiime2-2020.6/lib/python3.6/site-packages/q2_feature_table/_summarize/_visualizer.py:124: FutureWarning: The signature of `Series.to_csv` was aligned to that of `DataFrame.to_csv`, and argument 'header' will change its default value from False to True: please pass an explicit value to suppress this warning.\n",
      "  os.path.join(output_dir, 'feature-frequency-detail.csv'))\n"
     ]
    },
    {
     "name": "stdout",
     "output_type": "stream",
     "text": [
      "Saving summary file to:/Users/jzaneveld/Dropbox/Zaneveld_Lab_Organization/Projects/GCMP_Global_Disease/gcmp_global_disease/analysis/core_analysis/output/feature_table_mucus.qzv\n"
     ]
    },
    {
     "name": "stderr",
     "output_type": "stream",
     "text": [
      "/Users/jzaneveld/anaconda3/envs/qiime2-2020.6/lib/python3.6/site-packages/q2_feature_table/_summarize/_visualizer.py:122: FutureWarning: The signature of `Series.to_csv` was aligned to that of `DataFrame.to_csv`, and argument 'header' will change its default value from False to True: please pass an explicit value to suppress this warning.\n",
      "  os.path.join(output_dir, 'sample-frequency-detail.csv'))\n",
      "/Users/jzaneveld/anaconda3/envs/qiime2-2020.6/lib/python3.6/site-packages/q2_feature_table/_summarize/_visualizer.py:124: FutureWarning: The signature of `Series.to_csv` was aligned to that of `DataFrame.to_csv`, and argument 'header' will change its default value from False to True: please pass an explicit value to suppress this warning.\n",
      "  os.path.join(output_dir, 'feature-frequency-detail.csv'))\n"
     ]
    },
    {
     "name": "stdout",
     "output_type": "stream",
     "text": [
      "Saving summary file to:/Users/jzaneveld/Dropbox/Zaneveld_Lab_Organization/Projects/GCMP_Global_Disease/gcmp_global_disease/analysis/core_analysis/output/feature_table_tissue.qzv\n"
     ]
    },
    {
     "name": "stderr",
     "output_type": "stream",
     "text": [
      "/Users/jzaneveld/anaconda3/envs/qiime2-2020.6/lib/python3.6/site-packages/q2_feature_table/_summarize/_visualizer.py:122: FutureWarning: The signature of `Series.to_csv` was aligned to that of `DataFrame.to_csv`, and argument 'header' will change its default value from False to True: please pass an explicit value to suppress this warning.\n",
      "  os.path.join(output_dir, 'sample-frequency-detail.csv'))\n",
      "/Users/jzaneveld/anaconda3/envs/qiime2-2020.6/lib/python3.6/site-packages/q2_feature_table/_summarize/_visualizer.py:124: FutureWarning: The signature of `Series.to_csv` was aligned to that of `DataFrame.to_csv`, and argument 'header' will change its default value from False to True: please pass an explicit value to suppress this warning.\n",
      "  os.path.join(output_dir, 'feature-frequency-detail.csv'))\n"
     ]
    },
    {
     "name": "stdout",
     "output_type": "stream",
     "text": [
      "Saving summary file to:/Users/jzaneveld/Dropbox/Zaneveld_Lab_Organization/Projects/GCMP_Global_Disease/gcmp_global_disease/analysis/core_analysis/output/feature_table_skeleton.qzv\n"
     ]
    }
   ],
   "source": [
    "for compartment,table in filtered_feature_tables.items():\n",
    "    #Output a sample summary\n",
    "    summary_visualization = summarize(filtered_table,sample_metadata=metadata)\n",
    "    vis = summary_visualization.visualization\n",
    "    output_filename = f\"feature_table_{compartment}.qzv\"\n",
    "    output_filepath = join(output_dir,output_filename)\n",
    "    print(f\"Saving summary file to:{output_filepath}\")\n",
    "    vis.save(output_filepath)"
   ]
  },
  {
   "cell_type": "markdown",
   "metadata": {},
   "source": [
    "#### Rarefy the filtered feature tables to equal depth\n",
    "\n",
    "Removal of mitochondria and chloroplasts may affect sequencing depth in each compartment."
   ]
  },
  {
   "cell_type": "code",
   "execution_count": 58,
   "metadata": {},
   "outputs": [
    {
     "name": "stdout",
     "output_type": "stream",
     "text": [
      "Rarefying: mucus feature table <artifact: FeatureTable[Frequency] uuid: 1281ec4b-6260-4801-8009-0a96098914ca> to 1000 sequences/sample\n",
      "Saving results to:/Users/jzaneveld/Dropbox/Zaneveld_Lab_Organization/Projects/GCMP_Global_Disease/gcmp_global_disease/analysis/core_analysis/output/feature_table_mucus_1000.qza\n",
      "Rarefying: tissue feature table <artifact: FeatureTable[Frequency] uuid: bcbed849-610a-4f33-b244-7e000196fed3> to 1000 sequences/sample\n",
      "Saving results to:/Users/jzaneveld/Dropbox/Zaneveld_Lab_Organization/Projects/GCMP_Global_Disease/gcmp_global_disease/analysis/core_analysis/output/feature_table_tissue_1000.qza\n",
      "Rarefying: skeleton feature table <artifact: FeatureTable[Frequency] uuid: dbe1f42f-7130-4a4d-8f60-17f47bd5c643> to 1000 sequences/sample\n",
      "Saving results to:/Users/jzaneveld/Dropbox/Zaneveld_Lab_Organization/Projects/GCMP_Global_Disease/gcmp_global_disease/analysis/core_analysis/output/feature_table_skeleton_1000.qza\n"
     ]
    }
   ],
   "source": [
    "rarefaction_depth = 1000\n",
    "rarefied_feature_tables = {}\n",
    "for compartment,table in filtered_feature_tables.items():\n",
    "    print(f\"Rarefying: {compartment} feature table {table} to {rarefaction_depth} sequences/sample\")\n",
    "    rarefy_results = rarefy(table=table, sampling_depth=rarefaction_depth)\n",
    "    #Get the rarefied table out of the NamedTuple of results\n",
    "    rarefied_filtered_table = rarefy_results.rarefied_table\n",
    "    \n",
    "    \n",
    "    #Save the resulting feature table to disk\n",
    "    output_filename = f\"feature_table_{compartment}_{rarefaction_depth}.qza\"\n",
    "    output_filepath = join(output_dir,output_filename)\n",
    "    print(f\"Saving results to:{output_filepath}\")\n",
    "    rarefied_filtered_table.save(output_filepath)\n",
    "    \n",
    "    #Store rarefied feature table in a dict so we don't have to reload\n",
    "    rarefied_feature_tables[compartment]=rarefied_filtered_table\n",
    "    "
   ]
  },
  {
   "cell_type": "markdown",
   "metadata": {},
   "source": [
    "#### Calculate non-phylogenetic alpha diversity for each rarefied, filtered sample"
   ]
  },
  {
   "cell_type": "code",
   "execution_count": 69,
   "metadata": {},
   "outputs": [
    {
     "name": "stdout",
     "output_type": "stream",
     "text": [
      "Calculating alpha diversity for mucus using observed_otus\n",
      "Saving results to:/Users/jzaneveld/Dropbox/Zaneveld_Lab_Organization/Projects/GCMP_Global_Disease/gcmp_global_disease/analysis/core_analysis/output/adiv_mucus_observed_otus_1000.qza\n",
      "Calculating alpha diversity for mucus using gini_index\n",
      "Saving results to:/Users/jzaneveld/Dropbox/Zaneveld_Lab_Organization/Projects/GCMP_Global_Disease/gcmp_global_disease/analysis/core_analysis/output/adiv_mucus_gini_index_1000.qza\n",
      "Calculating alpha diversity for mucus using dominance\n",
      "Saving results to:/Users/jzaneveld/Dropbox/Zaneveld_Lab_Organization/Projects/GCMP_Global_Disease/gcmp_global_disease/analysis/core_analysis/output/adiv_mucus_dominance_1000.qza\n",
      "Calculating alpha diversity for mucus using simpson_e\n",
      "Saving results to:/Users/jzaneveld/Dropbox/Zaneveld_Lab_Organization/Projects/GCMP_Global_Disease/gcmp_global_disease/analysis/core_analysis/output/adiv_mucus_simpson_e_1000.qza\n",
      "Calculating alpha diversity for tissue using observed_otus\n",
      "Saving results to:/Users/jzaneveld/Dropbox/Zaneveld_Lab_Organization/Projects/GCMP_Global_Disease/gcmp_global_disease/analysis/core_analysis/output/adiv_tissue_observed_otus_1000.qza\n",
      "Calculating alpha diversity for tissue using gini_index\n",
      "Saving results to:/Users/jzaneveld/Dropbox/Zaneveld_Lab_Organization/Projects/GCMP_Global_Disease/gcmp_global_disease/analysis/core_analysis/output/adiv_tissue_gini_index_1000.qza\n",
      "Calculating alpha diversity for tissue using dominance\n",
      "Saving results to:/Users/jzaneveld/Dropbox/Zaneveld_Lab_Organization/Projects/GCMP_Global_Disease/gcmp_global_disease/analysis/core_analysis/output/adiv_tissue_dominance_1000.qza\n",
      "Calculating alpha diversity for tissue using simpson_e\n",
      "Saving results to:/Users/jzaneveld/Dropbox/Zaneveld_Lab_Organization/Projects/GCMP_Global_Disease/gcmp_global_disease/analysis/core_analysis/output/adiv_tissue_simpson_e_1000.qza\n",
      "Calculating alpha diversity for skeleton using observed_otus\n",
      "Saving results to:/Users/jzaneveld/Dropbox/Zaneveld_Lab_Organization/Projects/GCMP_Global_Disease/gcmp_global_disease/analysis/core_analysis/output/adiv_skeleton_observed_otus_1000.qza\n",
      "Calculating alpha diversity for skeleton using gini_index\n",
      "Saving results to:/Users/jzaneveld/Dropbox/Zaneveld_Lab_Organization/Projects/GCMP_Global_Disease/gcmp_global_disease/analysis/core_analysis/output/adiv_skeleton_gini_index_1000.qza\n",
      "Calculating alpha diversity for skeleton using dominance\n",
      "Saving results to:/Users/jzaneveld/Dropbox/Zaneveld_Lab_Organization/Projects/GCMP_Global_Disease/gcmp_global_disease/analysis/core_analysis/output/adiv_skeleton_dominance_1000.qza\n",
      "Calculating alpha diversity for skeleton using simpson_e\n",
      "Saving results to:/Users/jzaneveld/Dropbox/Zaneveld_Lab_Organization/Projects/GCMP_Global_Disease/gcmp_global_disease/analysis/core_analysis/output/adiv_skeleton_simpson_e_1000.qza\n"
     ]
    }
   ],
   "source": [
    "metrics = ['observed_otus','gini_index','dominance','simpson_e']\n",
    "alpha_diversities = {}\n",
    "for compartment,table in rarefied_feature_tables.items():\n",
    "    for metric in metrics:\n",
    "        print(f\"Calculating alpha diversity for {compartment} using {metric}\")\n",
    "        alpha_results = alpha(table=table,metric = metric)\n",
    "        alpha_diversity = alpha_results.alpha_diversity\n",
    "        alpha_diversities[f\"{compartment}_{metric}_{rarefaction_depth}\"] = alpha_diversity\n",
    "        \n",
    "        #Save the resulting feature table to disk\n",
    "        output_filename = f\"adiv_{compartment}_{metric}_{rarefaction_depth}.qza\"\n",
    "        output_filepath = join(output_dir,output_filename)\n",
    "        print(f\"Saving results to:{output_filepath}\")\n",
    "        alpha_diversity.save(output_filepath)\n",
    "        \n",
    "        #Calculate alpha group significance for categorical variables\n",
    "        alpha_group_sig_results = alpha_group_significance(alpha_diversity=alpha_diversity,metadata=metadata)\n",
    "        alpha_group_sig_visualization = alpha_group_sig_results.visualization\n",
    "        output_filename = f\"adiv_{compartment}_{metric}_{rarefaction_depth}_group_sig.qzv\"       \n",
    "        output_filepath = join(output_dir,output_filename)\n",
    "        print(f\"Saving significance results to:{output_filepath}\")\n",
    "        alpha_group_sig_visualization.save(output_filename)\n",
    "    \n",
    "        "
   ]
  },
  {
   "cell_type": "markdown",
   "metadata": {},
   "source": [
    "#### Infer a phylogenetic tree and calculate phylogenetic alpha diversity\n",
    "\n",
    "Because short reads are not useful for inferring deep phylogenetic relationships, we will map our short reads to an existing tree. "
   ]
  },
  {
   "cell_type": "code",
   "execution_count": null,
   "metadata": {},
   "outputs": [],
   "source": [
    "from qiime2.plugins.fragment_insertion.methods import sepp"
   ]
  },
  {
   "cell_type": "code",
   "execution_count": null,
   "metadata": {},
   "outputs": [],
   "source": [
    "from qiime2.plugins.diversity.methods import alpha_phylogenetic\n",
    "alpha_diversities = {}\n",
    "metrics = ['faith_pd']\n",
    "for compartment,table in rarefied_feature_tables.items():\n",
    "    for metric in metrics:\n",
    "        print(f\"Calculating alpha diversity for {compartment} using {metric}\")\n",
    "        alpha_results = alpha_phylogenetic(table=table,metric = metric)\n",
    "        alpha_diversity = alpha_results.alpha_diversity\n",
    "        alpha_diversities[f\"{compartment}_{metric}_{rarefaction_depth}\"] = alpha_diversity\n",
    "        \n",
    "        #Save the resulting feature table to disk\n",
    "        output_filename = f\"adiv_{compartment}_{metric}_{rarefaction_depth}.qza\"\n",
    "        output_filepath = join(output_dir,output_filename)\n",
    "        print(f\"Saving results to:{output_filepath}\")\n",
    "        alpha_diversity.save(output_filepath)\n",
    "        \n",
    "        #Calculate alpha group significance for categorical variables\n",
    "        alpha_group_sig_results = alpha_group_significance(alpha_diversity=alpha_diversity,metadata=metadata)\n",
    "        alpha_group_sig_visualization = alpha_group_sig_results.visualization\n",
    "        output_filename = f\"adiv_{compartment}_{metric}_{rarefaction_depth}_group_sig.qzv\"\n",
    "        output_filepath = join(output_dir,output_filename)\n",
    "        print(f\"Saving significance results to:{output_filepath}\")\n",
    "        alpha_group_sig_visualization.save(output_filename)"
   ]
  }
 ],
 "metadata": {
  "kernelspec": {
   "display_name": "Python 3",
   "language": "python",
   "name": "python3"
  },
  "language_info": {
   "codemirror_mode": {
    "name": "ipython",
    "version": 3
   },
   "file_extension": ".py",
   "mimetype": "text/x-python",
   "name": "python",
   "nbconvert_exporter": "python",
   "pygments_lexer": "ipython3",
   "version": "3.7.2"
  }
 },
 "nbformat": 4,
 "nbformat_minor": 4
}
